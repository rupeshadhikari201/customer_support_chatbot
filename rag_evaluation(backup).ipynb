{
 "cells": [
  {
   "cell_type": "markdown",
   "id": "c78de5ee-3d6d-41bf-aae1-9f1841c66491",
   "metadata": {},
   "source": [
    "# Model: 01\n",
    "> Model Used for Rag             : <strong> mistral-small </strong><br>\n",
    "\n",
    "> Embedding Model Used for Rag   : <strong> embed-english-v3.0 </strong><br>\n",
    "\n",
    "> Model Used for Rag Evaluation      : <strong> Mistral </strong>"
   ]
  },
  {
   "cell_type": "code",
   "execution_count": 1,
   "id": "6ca8c1e9-fe6d-46d6-9ba4-7ce207088ca2",
   "metadata": {},
   "outputs": [],
   "source": [
    "!pip install langchain langchain-openai langchain-cohere langchain-mistralai ragas rank-bm25 faiss-cpu langchain-community -qU"
   ]
  },
  {
   "cell_type": "code",
   "execution_count": 5,
   "id": "d88077e8-7914-4ece-861e-778be6149a07",
   "metadata": {},
   "outputs": [],
   "source": [
    "import os\n",
    "os.environ['COHERE_API_KEY'] = 'your_api_key'\n",
    "os.environ['MISTRAL_API_KEY'] = 'your_api_key'"
   ]
  },
  {
   "cell_type": "code",
   "execution_count": 6,
   "id": "89d8028c-22a4-4404-9982-e619128c4b8b",
   "metadata": {},
   "outputs": [],
   "source": [
    "from typing import List\n",
    "from langchain_community.document_loaders import TextLoader, DirectoryLoader\n",
    "from langchain.text_splitter import RecursiveCharacterTextSplitter\n",
    "from langchain_mistralai import MistralAIEmbeddings\n",
    "from langchain_cohere import CohereEmbeddings\n",
    "from langchain_community.vectorstores import FAISS\n",
    "from langchain_community.retrievers import BM25Retriever\n",
    "from langchain.retrievers import EnsembleRetriever\n",
    "from langchain.retrievers.document_compressors import LLMChainExtractor\n",
    "from langchain.retrievers import ContextualCompressionRetriever\n",
    "from langchain_core.documents import Document\n",
    "\n",
    "class OptimizedRAGPipeline:\n",
    "    def __init__(self,\n",
    "                 docs_path: str = 'doc/',\n",
    "                 chunk_size: int = 2000,\n",
    "                 chunk_overlap: int = 200,\n",
    "                 embedding_model: str = 'embed-english-v3.0',\n",
    "                 use_reranker: bool = True,\n",
    "                 use_compression: bool = True):\n",
    "        \"\"\"\n",
    "        Initialize the optimized RAG pipeline\n",
    "\n",
    "        Args:\n",
    "            docs_path (str): Path to the documents directory\n",
    "            chunk_size (int): Size of document chunks\n",
    "            chunk_overlap (int): Overlap between chunks\n",
    "            embedding_model (str): Cohere embedding model name (note: uses 'model' parameter in newer versions)\n",
    "            use_reranker (bool): Whether to use reranking\n",
    "            use_compression (bool): Whether to use contextual compression\n",
    "        \"\"\"\n",
    "        self.docs_path = docs_path\n",
    "        self.chunk_size = chunk_size\n",
    "        self.chunk_overlap = chunk_overlap\n",
    "        self.embedding_model = embedding_model\n",
    "        self.use_reranker = use_reranker\n",
    "        self.use_compression = use_compression\n",
    "\n",
    "        # Initialize components\n",
    "        self.documents = self._load_documents()\n",
    "        self.embeddings = self._initialize_embeddings()\n",
    "        self.vector_store = self._create_vector_store()\n",
    "        self.retriever = self._build_retriever()\n",
    "\n",
    "    def _load_documents(self) -> List[Document]:\n",
    "        \"\"\"Load and split documents from the specified path\"\"\"\n",
    "\n",
    "        try:\n",
    "            # Load documents from directory\n",
    "            loader = DirectoryLoader(\n",
    "                self.docs_path,\n",
    "                glob='*.txt',\n",
    "                loader_cls=TextLoader,\n",
    "                loader_kwargs={\"encoding\": \"utf-8\"}\n",
    "            )\n",
    "\n",
    "            # Split documents with optimized chunking strategy\n",
    "            text_splitter = RecursiveCharacterTextSplitter(\n",
    "                chunk_size=self.chunk_size,\n",
    "                chunk_overlap=self.chunk_overlap,\n",
    "                separators=[\"\\n\\n\", \"\\n\", \". \", \" \", \"\"],\n",
    "                length_function=len\n",
    "            )\n",
    "\n",
    "            documents = loader.load_and_split(text_splitter)\n",
    "\n",
    "            return documents\n",
    "\n",
    "        except Exception as e:\n",
    "\n",
    "            return []\n",
    "\n",
    "    def _initialize_embeddings(self):\n",
    "        \"\"\"Initialize the embedding model\"\"\"\n",
    "\n",
    "        try:\n",
    "            return CohereEmbeddings(model=self.embedding_model)\n",
    "        except Exception as e:\n",
    "            try:\n",
    "                return CohereEmbeddings(model=self.embedding_model)\n",
    "            except Exception as fallback_error:\n",
    "                return CohereEmbeddings(model=self.embedding_model)\n",
    "\n",
    "    def _create_vector_store(self):\n",
    "        \"\"\"Create a vector store from documents and embeddings\"\"\"\n",
    "\n",
    "        try:\n",
    "            return FAISS.from_documents(self.documents, self.embeddings)\n",
    "        except Exception as e:\n",
    "\n",
    "            return None\n",
    "\n",
    "    def _build_retriever(self, k: int = 3):\n",
    "        \"\"\"Build an optimized retriever with multiple strategies\"\"\"\n",
    "\n",
    "        # Create base vector retriever\n",
    "        vector_retriever = self.vector_store.as_retriever(search_kwargs={\"k\": k})\n",
    "\n",
    "        # Create BM25 retriever for keyword-based retrieval\n",
    "        bm25_retriever = BM25Retriever.from_documents(self.documents)\n",
    "        bm25_retriever.k = k\n",
    "\n",
    "        # Combine retrievers with weights\n",
    "        ensemble_retriever = EnsembleRetriever(\n",
    "            retrievers=[vector_retriever, bm25_retriever],\n",
    "            weights=[0.7, 0.3]\n",
    "        )\n",
    "\n",
    "        # Add contextual compression if enabled\n",
    "        if self.use_compression:\n",
    "            try:\n",
    "                try:\n",
    "                    from langchain_cohere import ChatCohere\n",
    "                    llm = ChatCohere(\n",
    "                        cohere_api_key=os.environ.get('COHERE_API_KEY'),\n",
    "                        temperature=0\n",
    "                    )\n",
    "                except Exception:\n",
    "                    print(\"Error in contextual compression\")\n",
    "\n",
    "                compressor = LLMChainExtractor.from_llm(llm)\n",
    "\n",
    "                return ContextualCompressionRetriever(\n",
    "                    base_compressor=compressor,\n",
    "                    base_retriever=ensemble_retriever\n",
    "                )\n",
    "            except Exception as e:\n",
    "                return ensemble_retriever\n",
    "        else:\n",
    "            return ensemble_retriever\n",
    "\n",
    "    def retrieve(self, query: str, k: int = 3) -> List[Document]:\n",
    "        \"\"\"\n",
    "        Retrieve relevant documents for a query\n",
    "\n",
    "        Args:\n",
    "            query (str): The search query\n",
    "            k (int): Number of documents to retrieve\n",
    "\n",
    "        Returns:\n",
    "            List[Document]: List of retrieved documents\n",
    "        \"\"\"\n",
    "\n",
    "        try:\n",
    "            # Use the new invoke method instead of deprecated get_relevant_documents\n",
    "            return self.retriever.invoke(query)\n",
    "        except Exception as e:\n",
    "\n",
    "            # Fallback to simple vector retrieval if ensemble fails\n",
    "            try:\n",
    "                return self.vector_store.similarity_search(query, k=k)\n",
    "            except Exception as inner_e:\n",
    "                return []\n",
    "\n",
    "    def get_retrieval_content(self, query: str, k: int = 3) -> List[str]:\n",
    "        \"\"\"\n",
    "        Get the content of retrieved documents for a query\n",
    "\n",
    "        Args:\n",
    "            query (str): The search query\n",
    "            k (int): Number of documents to retrieve\n",
    "\n",
    "        Returns:\n",
    "            List[str]: List of document contents\n",
    "        \"\"\"\n",
    "        docs = self.retrieve(query, k)\n",
    "        return [doc.page_content if doc.page_content != 'NO_OUTPUT.' else '' for doc in docs]\n",
    "\n",
    "\n",
    "# Initialize the RAG pipeline\n",
    "rag_pipeline = OptimizedRAGPipeline()"
   ]
  },
  {
   "cell_type": "code",
   "execution_count": 7,
   "id": "55739fa7-0fd9-417e-95b6-dc413f646f00",
   "metadata": {},
   "outputs": [
    {
     "data": {
      "text/plain": [
       "[Document(id='2fcebf9d-362a-4f7f-8c22-43bad967db51', metadata={'source': 'doc\\\\faq.txt'}, page_content='# GOKAP InnoTech - Comprehensive FAQ Answers\\n\\n## Account Management\\n\\n### 1. \"How do I reset my password?\"\\nTo reset your password on GOKAP InnoTech:\\n1. Click on the \"Login\" button at the top right of the homepage\\n2. Select \"Forgot Password\" below the login form\\n3. Enter the email address associated with your account\\n4. Check your email inbox for a password reset link (check spam/junk folders if not visible)\\n5. Click the link and follow instructions to create a new password\\n6. Use your new password to log in\\n\\nIf you don\\'t receive the reset email within 10 minutes, you can contact our support team at support@gokapinnotech.com for assistance.\\n\\n### 2. \"Can I have both a freelancer and client account?\"\\nYes, GOKAP InnoTech allows you to maintain both freelancer and client profiles under a single account. To set this up:\\n\\n1. Log in to your existing account\\n2. Go to \"Account Settings\" from the dropdown menu\\n3. Select \"Profile Management\"\\n4. Click on \"Add New Profile Type\"\\n5. Choose the profile type you want to add (Freelancer or Client)\\n6. Complete the required information for the new profile\\n7. Save changes\\n\\nYou can easily switch between your freelancer and client profiles using the toggle in the top navigation bar once both are set up. This is especially useful for professionals who both offer services and hire others for different projects.\\n\\n### 3. \"How do I verify my identity?\"\\nIdentity verification on GOKAP InnoTech involves these steps:\\n\\n1. Log in to your account\\n2. Navigate to \"Account Settings\" > \"Verification Center\"\\n3. Select \"Identity Verification\"\\n4. Choose your verification method:\\n   - National ID/Passport verification\\n   - Phone number verification\\n   - Address verification\\n5. Upload the required documents as specified\\n6. Submit your verification request'),\n",
       " Document(id='f504e0c3-d445-4b46-9645-23b3baf34b7d', metadata={'source': 'doc\\\\main_corpus.txt'}, page_content='1. Company Overview\\nGOKAP Innotech is a Bhutan-based startup founded to bridge the gap between freelancers and clients through an innovative platform that facilitates seamless collaboration. The company’s mission is \"Tech Excellence, Customer Happiness,\" focusing on transforming lives through technology innovation 4. With over 100+ happy customers and 100+ completed projects, GOKAP has established itself as a trusted name in the tech industry.\\n\\nFull Name: GOKAP InnoTech (commonly referred to as GIT)\\nFounded: 2020\\nIndustry: Technology, Freelance Marketplace\\nHeadquarters: Thimphu, Bhutan\\nContact Information:\\nPhone: +97517570958\\nEmail: GIT@gokapinnotech.com\\nWebsite: www.gokapinnotech.com\\n\\n2. Platform Description\\nGOKAP InnoTech operates a digital marketplace connecting freelancers with clients. The platform facilitates project-based work where clients can post projects and freelancers can apply to complete these projects for compensation.\\nUser Types\\n\\nClients:\\n\\nBusinesses or individuals seeking professional services\\nCan post projects, set budgets, and hire freelancers\\nReview freelancer profiles, portfolios, and ratings before hiring\\nRelease payment upon satisfactory project completion\\n\\n\\nFreelancers:\\n\\nProfessionals offering services across various categories\\nCreate profiles highlighting skills, experience, and portfolio\\nBrowse and apply for available projects\\nComplete work and receive payment through the platform\\n\\n\\n\\n3. Key Features\\nAccount Creation & Management\\n\\nSimple registration process requiring email verification\\nProfile customization options\\nDocument verification for identity confirmation\\nAccount tiers: Basic, Premium, and Enterprise\\n\\nProject Management\\n\\nProject posting interface for clients\\nProject discovery tool for freelancers\\nMilestone tracking system\\nDeadline management features\\nFile sharing capabilities\\n\\nPayment System'),\n",
       " Document(id='b03aea12-6c87-4181-8be9-f80ae62c4532', metadata={'source': 'doc\\\\faq.txt'}, page_content='### 3. \"Payment transaction failed\"\\nIf your payment transaction failed on GOKAP InnoTech, please follow these troubleshooting steps:\\n\\n**Common Causes and Solutions:**\\n\\n1. **Card/Payment Method Issues:**\\n   - Verify your card hasn\\'t expired\\n   - Ensure sufficient funds in your account\\n   - Check if your card allows online/international transactions\\n   - Confirm billing address matches your card information\\n   - Try a different payment method if available\\n\\n2. **Verification Problems:**\\n   - Some banks require additional verification for online transactions\\n   - Check your phone for SMS verification requests\\n   - Look for email verification from your bank\\n   - Contact your bank to authorize the transaction\\n\\n3. **Platform-Related Issues:**\\n   - Clear browser cache and cookies\\n   - Use a private/incognito browsing window\\n   - Try a different browser or device\\n   - Ensure you\\'re using a secure connection (https)\\n\\n4. **Regional Restrictions:**\\n   - Some payment methods have geographical restrictions\\n   - Check if your payment method is supported in your region\\n   - Consider using an alternative payment method\\n\\n**Next Steps:**\\n1. Wait 15-30 minutes before trying again (multiple rapid attempts may trigger security flags)\\n2. Check your bank statement to ensure you weren\\'t charged despite the error\\n3. If you see a pending transaction but received an error, wait 24 hours for automatic reversal\\n\\n**Contact Information:**\\nIf the issue persists:\\n- Email: payments@gokapinnotech.com\\n- Include your account username, transaction reference (if available), date/time of attempt, and screenshot of any error messages\\n- Do NOT share your full card details or security codes via email\\n\\nOur finance team is available Monday-Friday, 9 AM to 6 PM BT (Bhutan Time), with limited weekend support for urgent payment issues.\\n\\n### 4. \"Notification system not working\"\\nIf you\\'re experiencing issues with GOKAP InnoTech\\'s notification system, try these troubleshooting steps:')]"
      ]
     },
     "execution_count": 7,
     "metadata": {},
     "output_type": "execute_result"
    }
   ],
   "source": [
    "retrieve = rag_pipeline.retrieve('How do I reset my password on GOKAP InnoTech')\n",
    "retrieve"
   ]
  },
  {
   "cell_type": "code",
   "execution_count": 8,
   "id": "4b127e81-debf-4a3e-ac43-1801ce1d93d4",
   "metadata": {},
   "outputs": [
    {
     "data": {
      "text/plain": [
       "['# GOKAP InnoTech - Comprehensive FAQ Answers\\n\\n## Account Management\\n\\n### 1. \"How do I reset my password?\"\\nTo reset your password on GOKAP InnoTech:\\n1. Click on the \"Login\" button at the top right of the homepage\\n2. Select \"Forgot Password\" below the login form\\n3. Enter the email address associated with your account\\n4. Check your email inbox for a password reset link (check spam/junk folders if not visible)\\n5. Click the link and follow instructions to create a new password\\n6. Use your new password to log in\\n\\nIf you don\\'t receive the reset email within 10 minutes, you can contact our support team at support@gokapinnotech.com for assistance.\\n\\n### 2. \"Can I have both a freelancer and client account?\"\\nYes, GOKAP InnoTech allows you to maintain both freelancer and client profiles under a single account. To set this up:\\n\\n1. Log in to your existing account\\n2. Go to \"Account Settings\" from the dropdown menu\\n3. Select \"Profile Management\"\\n4. Click on \"Add New Profile Type\"\\n5. Choose the profile type you want to add (Freelancer or Client)\\n6. Complete the required information for the new profile\\n7. Save changes\\n\\nYou can easily switch between your freelancer and client profiles using the toggle in the top navigation bar once both are set up. This is especially useful for professionals who both offer services and hire others for different projects.\\n\\n### 3. \"How do I verify my identity?\"\\nIdentity verification on GOKAP InnoTech involves these steps:\\n\\n1. Log in to your account\\n2. Navigate to \"Account Settings\" > \"Verification Center\"\\n3. Select \"Identity Verification\"\\n4. Choose your verification method:\\n   - National ID/Passport verification\\n   - Phone number verification\\n   - Address verification\\n5. Upload the required documents as specified\\n6. Submit your verification request',\n",
       " '1. Company Overview\\nGOKAP Innotech is a Bhutan-based startup founded to bridge the gap between freelancers and clients through an innovative platform that facilitates seamless collaboration. The company’s mission is \"Tech Excellence, Customer Happiness,\" focusing on transforming lives through technology innovation 4. With over 100+ happy customers and 100+ completed projects, GOKAP has established itself as a trusted name in the tech industry.\\n\\nFull Name: GOKAP InnoTech (commonly referred to as GIT)\\nFounded: 2020\\nIndustry: Technology, Freelance Marketplace\\nHeadquarters: Thimphu, Bhutan\\nContact Information:\\nPhone: +97517570958\\nEmail: GIT@gokapinnotech.com\\nWebsite: www.gokapinnotech.com\\n\\n2. Platform Description\\nGOKAP InnoTech operates a digital marketplace connecting freelancers with clients. The platform facilitates project-based work where clients can post projects and freelancers can apply to complete these projects for compensation.\\nUser Types\\n\\nClients:\\n\\nBusinesses or individuals seeking professional services\\nCan post projects, set budgets, and hire freelancers\\nReview freelancer profiles, portfolios, and ratings before hiring\\nRelease payment upon satisfactory project completion\\n\\n\\nFreelancers:\\n\\nProfessionals offering services across various categories\\nCreate profiles highlighting skills, experience, and portfolio\\nBrowse and apply for available projects\\nComplete work and receive payment through the platform\\n\\n\\n\\n3. Key Features\\nAccount Creation & Management\\n\\nSimple registration process requiring email verification\\nProfile customization options\\nDocument verification for identity confirmation\\nAccount tiers: Basic, Premium, and Enterprise\\n\\nProject Management\\n\\nProject posting interface for clients\\nProject discovery tool for freelancers\\nMilestone tracking system\\nDeadline management features\\nFile sharing capabilities\\n\\nPayment System',\n",
       " '### 3. \"Payment transaction failed\"\\nIf your payment transaction failed on GOKAP InnoTech, please follow these troubleshooting steps:\\n\\n**Common Causes and Solutions:**\\n\\n1. **Card/Payment Method Issues:**\\n   - Verify your card hasn\\'t expired\\n   - Ensure sufficient funds in your account\\n   - Check if your card allows online/international transactions\\n   - Confirm billing address matches your card information\\n   - Try a different payment method if available\\n\\n2. **Verification Problems:**\\n   - Some banks require additional verification for online transactions\\n   - Check your phone for SMS verification requests\\n   - Look for email verification from your bank\\n   - Contact your bank to authorize the transaction\\n\\n3. **Platform-Related Issues:**\\n   - Clear browser cache and cookies\\n   - Use a private/incognito browsing window\\n   - Try a different browser or device\\n   - Ensure you\\'re using a secure connection (https)\\n\\n4. **Regional Restrictions:**\\n   - Some payment methods have geographical restrictions\\n   - Check if your payment method is supported in your region\\n   - Consider using an alternative payment method\\n\\n**Next Steps:**\\n1. Wait 15-30 minutes before trying again (multiple rapid attempts may trigger security flags)\\n2. Check your bank statement to ensure you weren\\'t charged despite the error\\n3. If you see a pending transaction but received an error, wait 24 hours for automatic reversal\\n\\n**Contact Information:**\\nIf the issue persists:\\n- Email: payments@gokapinnotech.com\\n- Include your account username, transaction reference (if available), date/time of attempt, and screenshot of any error messages\\n- Do NOT share your full card details or security codes via email\\n\\nOur finance team is available Monday-Friday, 9 AM to 6 PM BT (Bhutan Time), with limited weekend support for urgent payment issues.\\n\\n### 4. \"Notification system not working\"\\nIf you\\'re experiencing issues with GOKAP InnoTech\\'s notification system, try these troubleshooting steps:']"
      ]
     },
     "execution_count": 8,
     "metadata": {},
     "output_type": "execute_result"
    }
   ],
   "source": [
    "retrieval_content = rag_pipeline.get_retrieval_content('How do I reset my password on GOKAP InnoTech')\n",
    "retrieval_content"
   ]
  },
  {
   "cell_type": "code",
   "execution_count": 9,
   "id": "c1a17503-1f89-49c1-8bf3-4a4e4f20abae",
   "metadata": {},
   "outputs": [],
   "source": [
    "from langchain_mistralai import ChatMistralAI\n",
    "llm = ChatMistralAI()"
   ]
  },
  {
   "cell_type": "code",
   "execution_count": 11,
   "id": "bcc98483-4ae4-4e0b-8d85-55ae2feabfca",
   "metadata": {},
   "outputs": [
    {
     "name": "stdout",
     "output_type": "stream",
     "text": [
      "mistral-small\n"
     ]
    }
   ],
   "source": [
    "print(llm.model)"
   ]
  },
  {
   "cell_type": "code",
   "execution_count": 12,
   "id": "dc4f24ff-57ad-41fc-8e61-5ad8a48fbc3c",
   "metadata": {},
   "outputs": [],
   "source": [
    "from langchain_core.prompts import ChatPromptTemplate\n",
    "\n",
    "prompt = ChatPromptTemplate.from_template(\"\"\"\n",
    "  \"You are a helpful customer support assistant for gokap innotech company. \"\n",
    "  \"Your goal is to provide accurate, helpful, and concise responses based on the company's knowledge base. \"\n",
    "  Asked Question = {question}\n",
    "  Retrived Context = {context}\n",
    "\"\"\")"
   ]
  },
  {
   "cell_type": "code",
   "execution_count": 13,
   "id": "b0f6d910-49c2-42b3-81b9-38582655c7f8",
   "metadata": {},
   "outputs": [],
   "source": [
    "from langchain_core.output_parsers import StrOutputParser\n",
    "from langchain_core.runnables import RunnablePassthrough\n",
    "\n",
    "retriever = rag_pipeline.get_retrieval_content\n",
    "\n",
    "chain = (\n",
    "    {\"context\" : retriever, \"question\" : RunnablePassthrough()}\n",
    "    | prompt\n",
    "    | llm\n",
    "    | StrOutputParser()\n",
    ")"
   ]
  },
  {
   "cell_type": "code",
   "execution_count": 14,
   "id": "96bf18ef-060b-412a-8725-58edd60edd27",
   "metadata": {},
   "outputs": [
    {
     "data": {
      "text/plain": [
       "'To reset your password on GOKAP InnoTech, follow these steps:\\n\\n1. Click on the \"Login\" button at the top right of the homepage.\\n2. Select \"Forgot Password\" below the login form.\\n3. Enter the email address associated with your account.\\n4. Check your email inbox for a password reset link (don\\'t forget to check spam/junk folders if not visible).\\n5. Click the link and follow instructions to create a new password.\\n6. Use your new password to log in.\\n\\nIf you don\\'t receive the reset email within 10 minutes, please contact our support team at support@gokapinnotech.com for assistance.\\n\\nFor more information about GOKAP InnoTech, you can visit our company overview:\\n- Full Name: GOKAP InnoTech (commonly referred to as GIT)\\n- Founded: 2020\\n- Industry: Technology, Freelance Marketplace\\n- Headquarters: Thimphu, Bhutan\\n- Contact Information:\\n  - Phone: +97517570958\\n  - Email: GIT@gokapinnotech.com\\n  - Website: www.gokapinnotech.com'"
      ]
     },
     "execution_count": 14,
     "metadata": {},
     "output_type": "execute_result"
    }
   ],
   "source": [
    "answer = chain.invoke(\"How do I reset my password on GOKAP InnoTech\")\n",
    "answer"
   ]
  },
  {
   "cell_type": "markdown",
   "id": "6bb05f72-6ab5-4b77-83b3-6cf2ee71edac",
   "metadata": {},
   "source": [
    "# Ragas"
   ]
  },
  {
   "cell_type": "code",
   "execution_count": 15,
   "id": "aaf65f09-6bc3-4062-9954-1209e05f7ed2",
   "metadata": {},
   "outputs": [],
   "source": [
    "!pip install ragas -qU"
   ]
  },
  {
   "cell_type": "code",
   "execution_count": 11,
   "id": "3905da6f-38d7-4ab0-be68-fdb7ba683d50",
   "metadata": {},
   "outputs": [],
   "source": [
    "from ragas import SingleTurnSample, EvaluationDataset"
   ]
  },
  {
   "cell_type": "code",
   "execution_count": 13,
   "id": "d60cebf2-478b-42e0-a555-2d6acd71b1ed",
   "metadata": {},
   "outputs": [],
   "source": [
    "# Sample 1\n",
    "user_input = \"How do I reset my password on GOKAP InnoTech?\"\n",
    "sample1 = SingleTurnSample(\n",
    "    user_input=user_input,\n",
    "    retrieved_contexts=rag_pipeline.get_retrieval_content(user_input),\n",
    "    response=chain.invoke(user_input),\n",
    "    reference=\"To reset your password on GOKAP InnoTech, click on the 'Login' button at the top right of the homepage, select 'Forgot Password', and enter the email address associated with your account. You’ll receive a password reset link via email—be sure to check your spam/junk folder. Click the link and follow the instructions to create a new password. If you don’t receive the email within 10 minutes, contact support@gokapinnotech.com.\"\n",
    ")"
   ]
  },
  {
   "cell_type": "code",
   "execution_count": 14,
   "id": "d3b585b5-8034-4a67-af3e-525884d6da98",
   "metadata": {},
   "outputs": [
    {
     "data": {
      "text/plain": [
       "SingleTurnSample(user_input='How do I reset my password on GOKAP InnoTech?', retrieved_contexts=['### 1. \"How do I reset my password?\"\\nTo reset your password on GOKAP InnoTech:\\n1. Click on the \"Login\" button at the top right of the homepage\\n2. Select \"Forgot Password\" below the login form\\n3. Enter the email address associated with your account\\n4. Check your email inbox for a password reset link (check spam/junk folders if not visible)\\n5. Click the link and follow instructions to create a new password\\n6. Use your new password to log in\\n\\nIf you don\\'t receive the reset email within 10 minutes, you can contact our support team at support@gokapinnotech.com for assistance.', '', '', '', ''], reference_contexts=None, response='To reset your password on GOKAP InnoTech, follow these steps:\\n\\n1. **Click on the \"Login\" button** at the top right of the homepage.  \\n2. **Select \"Forgot Password\"** below the login form.  \\n3. **Enter the email address** associated with your account.  \\n4. **Check your email inbox** for a password reset link (don’t forget to check spam/junk folders if it’s not visible).  \\n5. **Click the link** and follow the instructions to create a new password.  \\n6. **Use your new password** to log in.  \\n\\nIf you don’t receive the reset email within 10 minutes, please contact our support team at **support@gokapinnotech.com** for assistance. Let me know if you need further help!', multi_responses=None, reference=\"To reset your password on GOKAP InnoTech, click on the 'Login' button at the top right of the homepage, select 'Forgot Password', and enter the email address associated with your account. You’ll receive a password reset link via email—be sure to check your spam/junk folder. Click the link and follow the instructions to create a new password. If you don’t receive the email within 10 minutes, contact support@gokapinnotech.com.\", rubrics=None)"
      ]
     },
     "execution_count": 14,
     "metadata": {},
     "output_type": "execute_result"
    }
   ],
   "source": [
    "sample1"
   ]
  },
  {
   "cell_type": "code",
   "execution_count": 15,
   "id": "bb12c266-7f6b-4180-80c9-dc7b4d42eaae",
   "metadata": {},
   "outputs": [],
   "source": [
    "dataset1 = EvaluationDataset(samples=[sample1])"
   ]
  },
  {
   "cell_type": "code",
   "execution_count": 16,
   "id": "f6782dec-3355-41b2-92a7-1c82993569e4",
   "metadata": {},
   "outputs": [
    {
     "data": {
      "text/plain": [
       "EvaluationDataset(features=['user_input', 'retrieved_contexts', 'response', 'reference'], len=1)"
      ]
     },
     "execution_count": 16,
     "metadata": {},
     "output_type": "execute_result"
    }
   ],
   "source": [
    "dataset1"
   ]
  },
  {
   "cell_type": "code",
   "execution_count": 17,
   "id": "f7027d3a-a7a2-4372-add4-c5377aa4bc0d",
   "metadata": {},
   "outputs": [],
   "source": [
    "from ragas.metrics import LLMContextRecall, Faithfulness, FactualCorrectness, ResponseRelevancy, ContextEntityRecall, NoiseSensitivity"
   ]
  },
  {
   "cell_type": "code",
   "execution_count": null,
   "id": "45f80bd2-7c19-4ab4-b2fb-0fd8199e9656",
   "metadata": {},
   "outputs": [],
   "source": [
    "metrics=[LLMContextRecall(), Faithfulness(), FactualCorrectness(), ResponseRelevancy(), ContextEntityRecall(), NoiseSensitivity()],\n",
    "llm=wrapped_evaluator_llm"
   ]
  },
  {
   "cell_type": "code",
   "execution_count": 18,
   "id": "c9054b88-f0e4-44b2-9d74-93098b38de95",
   "metadata": {},
   "outputs": [],
   "source": [
    "from ragas import evaluate"
   ]
  },
  {
   "cell_type": "code",
   "execution_count": 19,
   "id": "258df0f1-f4f8-4b05-b3ae-8789dfe03a74",
   "metadata": {},
   "outputs": [],
   "source": [
    "cohere_llm = ChatCohere(\n",
    "    cohere_api_key=\"WbDwiNgZambTJnI3Uwq8nr5LZ5P5AJn8lPWjWnrI\",\n",
    "    # model='command-r-plus-08-2024'\n",
    "    model='command-a-03-2025'\n",
    "    # model=\"command-r-plus\" # or another Cohere model like \"command-nightly\", \"command-light\", etc.\n",
    ")"
   ]
  },
  {
   "cell_type": "code",
   "execution_count": 42,
   "id": "97962356-db2a-4448-a134-b7f449b45f0d",
   "metadata": {},
   "outputs": [
    {
     "data": {
      "text/plain": [
       "AIMessage(content='Command-R+ is an advanced version of Cohere\\'s Command model, designed to provide more flexibility and functionality to users. It offers an improved command-style interface that allows users to interact with the model by giving specific commands or asking questions.\\n\\nThe \"Plus\" in Command-R+ indicates that it builds upon the capabilities of the original Command model. It includes additional features, enhanced capabilities, and improved performance compared to its predecessor.\\n\\nWith Command-R+, users can interact using natural language and receive more sophisticated responses. It is particularly useful for tasks that require complex reasoning, problem-solving, or generating content based on specific guidelines.\\n\\nThe context of Command-R+ is to provide a versatile and powerful tool that assists users in a wide range of scenarios, from answering questions and generating text to providing explanations, offering recommendations, and performing complex tasks. It aims to bridge the gap between traditional command-style interfaces and more advanced language models, offering a balanced combination of structure and flexibility to cater to diverse user needs.', additional_kwargs={'id': 'e6e58353-5d15-4b32-8b7f-e2f2e85ba7bf', 'finish_reason': 'COMPLETE', 'content': 'Command-R+ is an advanced version of Cohere\\'s Command model, designed to provide more flexibility and functionality to users. It offers an improved command-style interface that allows users to interact with the model by giving specific commands or asking questions.\\n\\nThe \"Plus\" in Command-R+ indicates that it builds upon the capabilities of the original Command model. It includes additional features, enhanced capabilities, and improved performance compared to its predecessor.\\n\\nWith Command-R+, users can interact using natural language and receive more sophisticated responses. It is particularly useful for tasks that require complex reasoning, problem-solving, or generating content based on specific guidelines.\\n\\nThe context of Command-R+ is to provide a versatile and powerful tool that assists users in a wide range of scenarios, from answering questions and generating text to providing explanations, offering recommendations, and performing complex tasks. It aims to bridge the gap between traditional command-style interfaces and more advanced language models, offering a balanced combination of structure and flexibility to cater to diverse user needs.', 'token_count': {'input_tokens': 206.0, 'output_tokens': 209.0}}, response_metadata={'id': 'e6e58353-5d15-4b32-8b7f-e2f2e85ba7bf', 'finish_reason': 'COMPLETE', 'content': 'Command-R+ is an advanced version of Cohere\\'s Command model, designed to provide more flexibility and functionality to users. It offers an improved command-style interface that allows users to interact with the model by giving specific commands or asking questions.\\n\\nThe \"Plus\" in Command-R+ indicates that it builds upon the capabilities of the original Command model. It includes additional features, enhanced capabilities, and improved performance compared to its predecessor.\\n\\nWith Command-R+, users can interact using natural language and receive more sophisticated responses. It is particularly useful for tasks that require complex reasoning, problem-solving, or generating content based on specific guidelines.\\n\\nThe context of Command-R+ is to provide a versatile and powerful tool that assists users in a wide range of scenarios, from answering questions and generating text to providing explanations, offering recommendations, and performing complex tasks. It aims to bridge the gap between traditional command-style interfaces and more advanced language models, offering a balanced combination of structure and flexibility to cater to diverse user needs.', 'token_count': {'input_tokens': 206.0, 'output_tokens': 209.0}}, id='run-bdb59aeb-e61e-4760-b447-9c02ca09924e-0', usage_metadata={'input_tokens': 206, 'output_tokens': 209, 'total_tokens': 415})"
      ]
     },
     "execution_count": 42,
     "metadata": {},
     "output_type": "execute_result"
    }
   ],
   "source": [
    "llm.invoke(\"what is the context of command-r-plus of cohere\")"
   ]
  },
  {
   "cell_type": "code",
   "execution_count": 20,
   "id": "51120f36-21e8-416d-9b23-3941f9156e2d",
   "metadata": {},
   "outputs": [],
   "source": [
    "cohere_embeddings = CohereEmbeddings(\n",
    "    cohere_api_key=\"your_api_key",\n",
    "    model=\"embed-english-v3.0\",  # or another Cohere embeddings model\n",
    ")"
   ]
  },
  {
   "cell_type": "code",
   "execution_count": 51,
   "id": "55451164-d6b2-42fb-a102-fe3c792e9184",
   "metadata": {},
   "outputs": [],
   "source": [
    "from langchain_openai import AzureChatOpenAI, AzureOpenAIEmbeddings\n",
    "from ragas.llms import LangchainLLMWrapper\n",
    "from ragas.embeddings import LangchainEmbeddingsWrapper"
   ]
  },
  {
   "cell_type": "code",
   "execution_count": 59,
   "id": "807faea7-793f-45ff-baab-b94e64117b6a",
   "metadata": {},
   "outputs": [],
   "source": [
    "\n",
    "azure_configs = {\n",
   
    "}\n",
    "\n",
    "\n",
    "azure_llm = AzureChatOpenAI(\n",
    "    api_key=azure_configs[\"chat_api_key\"],\n",
    "    openai_api_version=azure_configs[\"chat_api_version\"],\n",
    "    azure_endpoint=azure_configs[\"chat_base_url\"],\n",
    "    azure_deployment=azure_configs[\"chat_model_deployment\"],\n",
    "    model=azure_configs[\"chat_model_name\"],\n",
    "    validate_base_url=False,\n",
    "    max_tokens=16000\n",
    ")\n",
    "\n",
    "# init the embeddings for answer_relevancy, answer_correctness and answer_similarity\n",
    "azure_embeddings = AzureOpenAIEmbeddings(\n",
    "    api_key=azure_configs[\"embedding_api_key\"],\n",
    "    openai_api_version=azure_configs[\"embedding_api_version\"],\n",
    "    azure_endpoint=azure_configs[\"embedding_base_url\"],\n",
    "    azure_deployment=azure_configs[\"embedding_deployment\"],\n",
    "    model=azure_configs[\"embedding_name\"],\n",
    ")\n",
    "\n",
    "azure_llm = LangchainLLMWrapper(azure_llm)\n",
    "azure_embeddings = LangchainEmbeddingsWrapper(azure_embeddings)"
   ]
  },
  {
   "cell_type": "code",
   "execution_count": 60,
   "id": "f9045218-4593-4a4e-83aa-8c4179fb4af2",
   "metadata": {},
   "outputs": [
    {
     "data": {
      "application/vnd.jupyter.widget-view+json": {
       "model_id": "e99127c7a3494685b80116acf06f3a92",
       "version_major": 2,
       "version_minor": 0
      },
      "text/plain": [
       "Evaluating:   0%|          | 0/6 [00:00<?, ?it/s]"
      ]
     },
     "metadata": {},
     "output_type": "display_data"
    },
    {
     "name": "stderr",
     "output_type": "stream",
     "text": [
      "Exception raised in Job[0]: TimeoutError()\n",
      "Exception raised in Job[2]: TimeoutError()\n",
      "Exception raised in Job[4]: TimeoutError()\n",
      "Exception raised in Job[1]: TimeoutError()\n",
      "Exception raised in Job[5]: TimeoutError()\n",
      "Exception raised in Job[3]: TimeoutError()\n"
     ]
    }
   ],
   "source": [
    "result = evaluate(\n",
    "    dataset=dataset, \n",
    "    llm=azure_llm,\n",
    "    metrics=[LLMContextRecall(), Faithfulness(), FactualCorrectness(), ResponseRelevancy(), ContextEntityRecall(), NoiseSensitivity()],\n",
    "    embeddings=azure_embeddings\n",
    ")"
   ]
  },
  {
   "cell_type": "code",
   "execution_count": 21,
   "id": "011cfe9c-7aee-4ab3-aa7b-534cc6b35281",
   "metadata": {},
   "outputs": [
    {
     "data": {
      "application/vnd.jupyter.widget-view+json": {
       "model_id": "aa9a45cb56964b7d98f2a7795051e280",
       "version_major": 2,
       "version_minor": 0
      },
      "text/plain": [
       "Evaluating:   0%|          | 0/4 [00:00<?, ?it/s]"
      ]
     },
     "metadata": {},
     "output_type": "display_data"
    },
    {
     "name": "stderr",
     "output_type": "stream",
     "text": [
      "Exception raised in Job[0]: LLMDidNotFinishException(The LLM generation was not completed. Please increase the max_tokens and try again.)\n",
      "Exception raised in Job[1]: LLMDidNotFinishException(The LLM generation was not completed. Please increase the max_tokens and try again.)\n",
      "Exception raised in Job[3]: LLMDidNotFinishException(The LLM generation was not completed. Please increase the max_tokens and try again.)\n",
      "Exception raised in Job[2]: LLMDidNotFinishException(The LLM generation was not completed. Please increase the max_tokens and try again.)\n"
     ]
    }
   ],
   "source": [
    "result = evaluate(\n",
    "    dataset=dataset, \n",
    "    llm=cohere_llm,\n",
    "    embeddings=cohere_embeddings\n",
    ")"
   ]
  },
  {
   "cell_type": "code",
   "execution_count": 26,
   "id": "449bccdd-3621-4241-b7b8-1d60fcbe18ec",
   "metadata": {
    "collapsed": true,
    "jupyter": {
     "outputs_hidden": true
    },
    "scrolled": true
   },
   "outputs": [
    {
     "name": "stdout",
     "output_type": "stream",
     "text": [
      "Requirement already satisfied: openai in c:\\users\\santosh\\anaconda3\\lib\\site-packages (1.70.0)\n",
      "Collecting langchain-groq\n",
      "  Downloading langchain_groq-0.3.2-py3-none-any.whl.metadata (2.6 kB)\n",
      "Requirement already satisfied: anyio<5,>=3.5.0 in c:\\users\\santosh\\anaconda3\\lib\\site-packages (from openai) (4.2.0)\n",
      "Requirement already satisfied: distro<2,>=1.7.0 in c:\\users\\santosh\\anaconda3\\lib\\site-packages (from openai) (1.9.0)\n",
      "Requirement already satisfied: httpx<1,>=0.23.0 in c:\\users\\santosh\\anaconda3\\lib\\site-packages (from openai) (0.27.0)\n",
      "Requirement already satisfied: jiter<1,>=0.4.0 in c:\\users\\santosh\\anaconda3\\lib\\site-packages (from openai) (0.9.0)\n",
      "Requirement already satisfied: pydantic<3,>=1.9.0 in c:\\users\\santosh\\anaconda3\\lib\\site-packages (from openai) (2.8.2)\n",
      "Requirement already satisfied: sniffio in c:\\users\\santosh\\anaconda3\\lib\\site-packages (from openai) (1.3.0)\n",
      "Requirement already satisfied: tqdm>4 in c:\\users\\santosh\\anaconda3\\lib\\site-packages (from openai) (4.66.5)\n",
      "Requirement already satisfied: typing-extensions<5,>=4.11 in c:\\users\\santosh\\anaconda3\\lib\\site-packages (from openai) (4.11.0)\n",
      "Requirement already satisfied: langchain-core<1.0.0,>=0.3.49 in c:\\users\\santosh\\anaconda3\\lib\\site-packages (from langchain-groq) (0.3.51)\n",
      "Collecting groq<1,>=0.4.1 (from langchain-groq)\n",
      "  Downloading groq-0.22.0-py3-none-any.whl.metadata (15 kB)\n",
      "Requirement already satisfied: idna>=2.8 in c:\\users\\santosh\\anaconda3\\lib\\site-packages (from anyio<5,>=3.5.0->openai) (3.7)\n",
      "Requirement already satisfied: certifi in c:\\users\\santosh\\anaconda3\\lib\\site-packages (from httpx<1,>=0.23.0->openai) (2024.8.30)\n",
      "Requirement already satisfied: httpcore==1.* in c:\\users\\santosh\\anaconda3\\lib\\site-packages (from httpx<1,>=0.23.0->openai) (1.0.2)\n",
      "Requirement already satisfied: h11<0.15,>=0.13 in c:\\users\\santosh\\anaconda3\\lib\\site-packages (from httpcore==1.*->httpx<1,>=0.23.0->openai) (0.14.0)\n",
      "Requirement already satisfied: langsmith<0.4,>=0.1.125 in c:\\users\\santosh\\anaconda3\\lib\\site-packages (from langchain-core<1.0.0,>=0.3.49->langchain-groq) (0.3.24)\n",
      "Requirement already satisfied: tenacity!=8.4.0,<10.0.0,>=8.1.0 in c:\\users\\santosh\\anaconda3\\lib\\site-packages (from langchain-core<1.0.0,>=0.3.49->langchain-groq) (8.2.3)\n",
      "Requirement already satisfied: jsonpatch<2.0,>=1.33 in c:\\users\\santosh\\anaconda3\\lib\\site-packages (from langchain-core<1.0.0,>=0.3.49->langchain-groq) (1.33)\n",
      "Requirement already satisfied: PyYAML>=5.3 in c:\\users\\santosh\\anaconda3\\lib\\site-packages (from langchain-core<1.0.0,>=0.3.49->langchain-groq) (6.0.1)\n",
      "Requirement already satisfied: packaging<25,>=23.2 in c:\\users\\santosh\\anaconda3\\lib\\site-packages (from langchain-core<1.0.0,>=0.3.49->langchain-groq) (24.1)\n",
      "Requirement already satisfied: annotated-types>=0.4.0 in c:\\users\\santosh\\anaconda3\\lib\\site-packages (from pydantic<3,>=1.9.0->openai) (0.6.0)\n",
      "Requirement already satisfied: pydantic-core==2.20.1 in c:\\users\\santosh\\anaconda3\\lib\\site-packages (from pydantic<3,>=1.9.0->openai) (2.20.1)\n",
      "Requirement already satisfied: colorama in c:\\users\\santosh\\anaconda3\\lib\\site-packages (from tqdm>4->openai) (0.4.6)\n",
      "Requirement already satisfied: jsonpointer>=1.9 in c:\\users\\santosh\\anaconda3\\lib\\site-packages (from jsonpatch<2.0,>=1.33->langchain-core<1.0.0,>=0.3.49->langchain-groq) (2.1)\n",
      "Requirement already satisfied: orjson<4.0.0,>=3.9.14 in c:\\users\\santosh\\anaconda3\\lib\\site-packages (from langsmith<0.4,>=0.1.125->langchain-core<1.0.0,>=0.3.49->langchain-groq) (3.10.16)\n",
      "Requirement already satisfied: requests<3,>=2 in c:\\users\\santosh\\anaconda3\\lib\\site-packages (from langsmith<0.4,>=0.1.125->langchain-core<1.0.0,>=0.3.49->langchain-groq) (2.32.3)\n",
      "Requirement already satisfied: requests-toolbelt<2.0.0,>=1.0.0 in c:\\users\\santosh\\anaconda3\\lib\\site-packages (from langsmith<0.4,>=0.1.125->langchain-core<1.0.0,>=0.3.49->langchain-groq) (1.0.0)\n",
      "Requirement already satisfied: zstandard<0.24.0,>=0.23.0 in c:\\users\\santosh\\anaconda3\\lib\\site-packages (from langsmith<0.4,>=0.1.125->langchain-core<1.0.0,>=0.3.49->langchain-groq) (0.23.0)\n",
      "Requirement already satisfied: charset-normalizer<4,>=2 in c:\\users\\santosh\\anaconda3\\lib\\site-packages (from requests<3,>=2->langsmith<0.4,>=0.1.125->langchain-core<1.0.0,>=0.3.49->langchain-groq) (3.3.2)\n",
      "Requirement already satisfied: urllib3<3,>=1.21.1 in c:\\users\\santosh\\anaconda3\\lib\\site-packages (from requests<3,>=2->langsmith<0.4,>=0.1.125->langchain-core<1.0.0,>=0.3.49->langchain-groq) (2.2.3)\n",
      "Downloading langchain_groq-0.3.2-py3-none-any.whl (15 kB)\n",
      "Downloading groq-0.22.0-py3-none-any.whl (126 kB)\n",
      "Installing collected packages: groq, langchain-groq\n",
      "Successfully installed groq-0.22.0 langchain-groq-0.3.2\n"
     ]
    }
   ],
   "source": [
    "!pip install openai  langchain-groq"
   ]
  },
  {
   "cell_type": "code",
   "execution_count": null,
   "id": "55acb112-a179-4e84-883c-1fa0e6d8d17b",
   "metadata": {},
   "outputs": [],
   "source": [
    "xai_api= 'xai-UcEQ2CipwGuOrCqYOEbbSx6EqLC2Ig2g3g7VQsBvAT5ofYJkyzX3u9oPrfIJbpILcmPHaEQuBo84ATOx'"
   ]
  },
  {
   "cell_type": "code",
   "execution_count": 24,
   "id": "5f29afc6-f520-4949-9ada-152787988eb1",
   "metadata": {},
   "outputs": [],
   "source": [
    "from langchain_openai import ChatOpenAI\n",
    "\n",
    "# Initialize the chat model with x.ai endpoint\n",
    "xai_chat = ChatOpenAI(\n",
    "    model=\"grok-2-latest\",  # x.ai model name\n",
    "    openai_api_key=xai_api,  # Your x.ai API key\n",
    "    openai_api_base=\"https://api.x.ai/v1\"  # x.ai base URL\n",
    ")\n"
   ]
  },
  {
   "cell_type": "code",
   "execution_count": 25,
   "id": "f8ca9e46-c099-432e-bc13-8d87ee350104",
   "metadata": {
    "collapsed": true,
    "jupyter": {
     "outputs_hidden": true
    }
   },
   "outputs": [
    {
     "ename": "PermissionDeniedError",
     "evalue": "Error code: 403 - {'code': 'The caller does not have permission to execute the specified operation', 'error': \"Your newly created teams doesn't have any credits yet. You can purchase credits on https://console.x.ai/team/9a21b079-0e2c-40d5-ae29-e0e5dd1e349b.\"}",
     "output_type": "error",
     "traceback": [
      "\u001b[1;31m---------------------------------------------------------------------------\u001b[0m",
      "\u001b[1;31mPermissionDeniedError\u001b[0m                     Traceback (most recent call last)",
      "Cell \u001b[1;32mIn[25], line 2\u001b[0m\n\u001b[0;32m      1\u001b[0m \u001b[38;5;66;03m# Now you can use this in your Langchain applications\u001b[39;00m\n\u001b[1;32m----> 2\u001b[0m response \u001b[38;5;241m=\u001b[39m xai_chat\u001b[38;5;241m.\u001b[39minvoke(\u001b[38;5;124m\"\u001b[39m\u001b[38;5;124mdoes xai have released any embedding models\u001b[39m\u001b[38;5;124m\"\u001b[39m)\n",
      "File \u001b[1;32m~\\anaconda3\\Lib\\site-packages\\langchain_core\\language_models\\chat_models.py:331\u001b[0m, in \u001b[0;36mBaseChatModel.invoke\u001b[1;34m(self, input, config, stop, **kwargs)\u001b[0m\n\u001b[0;32m    319\u001b[0m \u001b[38;5;129m@override\u001b[39m\n\u001b[0;32m    320\u001b[0m \u001b[38;5;28;01mdef\u001b[39;00m \u001b[38;5;21minvoke\u001b[39m(\n\u001b[0;32m    321\u001b[0m     \u001b[38;5;28mself\u001b[39m,\n\u001b[1;32m   (...)\u001b[0m\n\u001b[0;32m    326\u001b[0m     \u001b[38;5;241m*\u001b[39m\u001b[38;5;241m*\u001b[39mkwargs: Any,\n\u001b[0;32m    327\u001b[0m ) \u001b[38;5;241m-\u001b[39m\u001b[38;5;241m>\u001b[39m BaseMessage:\n\u001b[0;32m    328\u001b[0m     config \u001b[38;5;241m=\u001b[39m ensure_config(config)\n\u001b[0;32m    329\u001b[0m     \u001b[38;5;28;01mreturn\u001b[39;00m cast(\n\u001b[0;32m    330\u001b[0m         \u001b[38;5;124m\"\u001b[39m\u001b[38;5;124mChatGeneration\u001b[39m\u001b[38;5;124m\"\u001b[39m,\n\u001b[1;32m--> 331\u001b[0m         \u001b[38;5;28mself\u001b[39m\u001b[38;5;241m.\u001b[39mgenerate_prompt(\n\u001b[0;32m    332\u001b[0m             [\u001b[38;5;28mself\u001b[39m\u001b[38;5;241m.\u001b[39m_convert_input(\u001b[38;5;28minput\u001b[39m)],\n\u001b[0;32m    333\u001b[0m             stop\u001b[38;5;241m=\u001b[39mstop,\n\u001b[0;32m    334\u001b[0m             callbacks\u001b[38;5;241m=\u001b[39mconfig\u001b[38;5;241m.\u001b[39mget(\u001b[38;5;124m\"\u001b[39m\u001b[38;5;124mcallbacks\u001b[39m\u001b[38;5;124m\"\u001b[39m),\n\u001b[0;32m    335\u001b[0m             tags\u001b[38;5;241m=\u001b[39mconfig\u001b[38;5;241m.\u001b[39mget(\u001b[38;5;124m\"\u001b[39m\u001b[38;5;124mtags\u001b[39m\u001b[38;5;124m\"\u001b[39m),\n\u001b[0;32m    336\u001b[0m             metadata\u001b[38;5;241m=\u001b[39mconfig\u001b[38;5;241m.\u001b[39mget(\u001b[38;5;124m\"\u001b[39m\u001b[38;5;124mmetadata\u001b[39m\u001b[38;5;124m\"\u001b[39m),\n\u001b[0;32m    337\u001b[0m             run_name\u001b[38;5;241m=\u001b[39mconfig\u001b[38;5;241m.\u001b[39mget(\u001b[38;5;124m\"\u001b[39m\u001b[38;5;124mrun_name\u001b[39m\u001b[38;5;124m\"\u001b[39m),\n\u001b[0;32m    338\u001b[0m             run_id\u001b[38;5;241m=\u001b[39mconfig\u001b[38;5;241m.\u001b[39mpop(\u001b[38;5;124m\"\u001b[39m\u001b[38;5;124mrun_id\u001b[39m\u001b[38;5;124m\"\u001b[39m, \u001b[38;5;28;01mNone\u001b[39;00m),\n\u001b[0;32m    339\u001b[0m             \u001b[38;5;241m*\u001b[39m\u001b[38;5;241m*\u001b[39mkwargs,\n\u001b[0;32m    340\u001b[0m         )\u001b[38;5;241m.\u001b[39mgenerations[\u001b[38;5;241m0\u001b[39m][\u001b[38;5;241m0\u001b[39m],\n\u001b[0;32m    341\u001b[0m     )\u001b[38;5;241m.\u001b[39mmessage\n",
      "File \u001b[1;32m~\\anaconda3\\Lib\\site-packages\\langchain_core\\language_models\\chat_models.py:894\u001b[0m, in \u001b[0;36mBaseChatModel.generate_prompt\u001b[1;34m(self, prompts, stop, callbacks, **kwargs)\u001b[0m\n\u001b[0;32m    885\u001b[0m \u001b[38;5;129m@override\u001b[39m\n\u001b[0;32m    886\u001b[0m \u001b[38;5;28;01mdef\u001b[39;00m \u001b[38;5;21mgenerate_prompt\u001b[39m(\n\u001b[0;32m    887\u001b[0m     \u001b[38;5;28mself\u001b[39m,\n\u001b[1;32m   (...)\u001b[0m\n\u001b[0;32m    891\u001b[0m     \u001b[38;5;241m*\u001b[39m\u001b[38;5;241m*\u001b[39mkwargs: Any,\n\u001b[0;32m    892\u001b[0m ) \u001b[38;5;241m-\u001b[39m\u001b[38;5;241m>\u001b[39m LLMResult:\n\u001b[0;32m    893\u001b[0m     prompt_messages \u001b[38;5;241m=\u001b[39m [p\u001b[38;5;241m.\u001b[39mto_messages() \u001b[38;5;28;01mfor\u001b[39;00m p \u001b[38;5;129;01min\u001b[39;00m prompts]\n\u001b[1;32m--> 894\u001b[0m     \u001b[38;5;28;01mreturn\u001b[39;00m \u001b[38;5;28mself\u001b[39m\u001b[38;5;241m.\u001b[39mgenerate(prompt_messages, stop\u001b[38;5;241m=\u001b[39mstop, callbacks\u001b[38;5;241m=\u001b[39mcallbacks, \u001b[38;5;241m*\u001b[39m\u001b[38;5;241m*\u001b[39mkwargs)\n",
      "File \u001b[1;32m~\\anaconda3\\Lib\\site-packages\\langchain_core\\language_models\\chat_models.py:719\u001b[0m, in \u001b[0;36mBaseChatModel.generate\u001b[1;34m(self, messages, stop, callbacks, tags, metadata, run_name, run_id, **kwargs)\u001b[0m\n\u001b[0;32m    716\u001b[0m \u001b[38;5;28;01mfor\u001b[39;00m i, m \u001b[38;5;129;01min\u001b[39;00m \u001b[38;5;28menumerate\u001b[39m(messages):\n\u001b[0;32m    717\u001b[0m     \u001b[38;5;28;01mtry\u001b[39;00m:\n\u001b[0;32m    718\u001b[0m         results\u001b[38;5;241m.\u001b[39mappend(\n\u001b[1;32m--> 719\u001b[0m             \u001b[38;5;28mself\u001b[39m\u001b[38;5;241m.\u001b[39m_generate_with_cache(\n\u001b[0;32m    720\u001b[0m                 m,\n\u001b[0;32m    721\u001b[0m                 stop\u001b[38;5;241m=\u001b[39mstop,\n\u001b[0;32m    722\u001b[0m                 run_manager\u001b[38;5;241m=\u001b[39mrun_managers[i] \u001b[38;5;28;01mif\u001b[39;00m run_managers \u001b[38;5;28;01melse\u001b[39;00m \u001b[38;5;28;01mNone\u001b[39;00m,\n\u001b[0;32m    723\u001b[0m                 \u001b[38;5;241m*\u001b[39m\u001b[38;5;241m*\u001b[39mkwargs,\n\u001b[0;32m    724\u001b[0m             )\n\u001b[0;32m    725\u001b[0m         )\n\u001b[0;32m    726\u001b[0m     \u001b[38;5;28;01mexcept\u001b[39;00m \u001b[38;5;167;01mBaseException\u001b[39;00m \u001b[38;5;28;01mas\u001b[39;00m e:\n\u001b[0;32m    727\u001b[0m         \u001b[38;5;28;01mif\u001b[39;00m run_managers:\n",
      "File \u001b[1;32m~\\anaconda3\\Lib\\site-packages\\langchain_core\\language_models\\chat_models.py:960\u001b[0m, in \u001b[0;36mBaseChatModel._generate_with_cache\u001b[1;34m(self, messages, stop, run_manager, **kwargs)\u001b[0m\n\u001b[0;32m    958\u001b[0m \u001b[38;5;28;01melse\u001b[39;00m:\n\u001b[0;32m    959\u001b[0m     \u001b[38;5;28;01mif\u001b[39;00m inspect\u001b[38;5;241m.\u001b[39msignature(\u001b[38;5;28mself\u001b[39m\u001b[38;5;241m.\u001b[39m_generate)\u001b[38;5;241m.\u001b[39mparameters\u001b[38;5;241m.\u001b[39mget(\u001b[38;5;124m\"\u001b[39m\u001b[38;5;124mrun_manager\u001b[39m\u001b[38;5;124m\"\u001b[39m):\n\u001b[1;32m--> 960\u001b[0m         result \u001b[38;5;241m=\u001b[39m \u001b[38;5;28mself\u001b[39m\u001b[38;5;241m.\u001b[39m_generate(\n\u001b[0;32m    961\u001b[0m             messages, stop\u001b[38;5;241m=\u001b[39mstop, run_manager\u001b[38;5;241m=\u001b[39mrun_manager, \u001b[38;5;241m*\u001b[39m\u001b[38;5;241m*\u001b[39mkwargs\n\u001b[0;32m    962\u001b[0m         )\n\u001b[0;32m    963\u001b[0m     \u001b[38;5;28;01melse\u001b[39;00m:\n\u001b[0;32m    964\u001b[0m         result \u001b[38;5;241m=\u001b[39m \u001b[38;5;28mself\u001b[39m\u001b[38;5;241m.\u001b[39m_generate(messages, stop\u001b[38;5;241m=\u001b[39mstop, \u001b[38;5;241m*\u001b[39m\u001b[38;5;241m*\u001b[39mkwargs)\n",
      "File \u001b[1;32m~\\anaconda3\\Lib\\site-packages\\langchain_openai\\chat_models\\base.py:955\u001b[0m, in \u001b[0;36mBaseChatOpenAI._generate\u001b[1;34m(self, messages, stop, run_manager, **kwargs)\u001b[0m\n\u001b[0;32m    953\u001b[0m     generation_info \u001b[38;5;241m=\u001b[39m {\u001b[38;5;124m\"\u001b[39m\u001b[38;5;124mheaders\u001b[39m\u001b[38;5;124m\"\u001b[39m: \u001b[38;5;28mdict\u001b[39m(raw_response\u001b[38;5;241m.\u001b[39mheaders)}\n\u001b[0;32m    954\u001b[0m \u001b[38;5;28;01melse\u001b[39;00m:\n\u001b[1;32m--> 955\u001b[0m     response \u001b[38;5;241m=\u001b[39m \u001b[38;5;28mself\u001b[39m\u001b[38;5;241m.\u001b[39mclient\u001b[38;5;241m.\u001b[39mcreate(\u001b[38;5;241m*\u001b[39m\u001b[38;5;241m*\u001b[39mpayload)\n\u001b[0;32m    956\u001b[0m \u001b[38;5;28;01mreturn\u001b[39;00m \u001b[38;5;28mself\u001b[39m\u001b[38;5;241m.\u001b[39m_create_chat_result(response, generation_info)\n",
      "File \u001b[1;32m~\\anaconda3\\Lib\\site-packages\\openai\\_utils\\_utils.py:279\u001b[0m, in \u001b[0;36mrequired_args.<locals>.inner.<locals>.wrapper\u001b[1;34m(*args, **kwargs)\u001b[0m\n\u001b[0;32m    277\u001b[0m             msg \u001b[38;5;241m=\u001b[39m \u001b[38;5;124mf\u001b[39m\u001b[38;5;124m\"\u001b[39m\u001b[38;5;124mMissing required argument: \u001b[39m\u001b[38;5;132;01m{\u001b[39;00mquote(missing[\u001b[38;5;241m0\u001b[39m])\u001b[38;5;132;01m}\u001b[39;00m\u001b[38;5;124m\"\u001b[39m\n\u001b[0;32m    278\u001b[0m     \u001b[38;5;28;01mraise\u001b[39;00m \u001b[38;5;167;01mTypeError\u001b[39;00m(msg)\n\u001b[1;32m--> 279\u001b[0m \u001b[38;5;28;01mreturn\u001b[39;00m func(\u001b[38;5;241m*\u001b[39margs, \u001b[38;5;241m*\u001b[39m\u001b[38;5;241m*\u001b[39mkwargs)\n",
      "File \u001b[1;32m~\\anaconda3\\Lib\\site-packages\\openai\\resources\\chat\\completions\\completions.py:914\u001b[0m, in \u001b[0;36mCompletions.create\u001b[1;34m(self, messages, model, audio, frequency_penalty, function_call, functions, logit_bias, logprobs, max_completion_tokens, max_tokens, metadata, modalities, n, parallel_tool_calls, prediction, presence_penalty, reasoning_effort, response_format, seed, service_tier, stop, store, stream, stream_options, temperature, tool_choice, tools, top_logprobs, top_p, user, web_search_options, extra_headers, extra_query, extra_body, timeout)\u001b[0m\n\u001b[0;32m    871\u001b[0m \u001b[38;5;129m@required_args\u001b[39m([\u001b[38;5;124m\"\u001b[39m\u001b[38;5;124mmessages\u001b[39m\u001b[38;5;124m\"\u001b[39m, \u001b[38;5;124m\"\u001b[39m\u001b[38;5;124mmodel\u001b[39m\u001b[38;5;124m\"\u001b[39m], [\u001b[38;5;124m\"\u001b[39m\u001b[38;5;124mmessages\u001b[39m\u001b[38;5;124m\"\u001b[39m, \u001b[38;5;124m\"\u001b[39m\u001b[38;5;124mmodel\u001b[39m\u001b[38;5;124m\"\u001b[39m, \u001b[38;5;124m\"\u001b[39m\u001b[38;5;124mstream\u001b[39m\u001b[38;5;124m\"\u001b[39m])\n\u001b[0;32m    872\u001b[0m \u001b[38;5;28;01mdef\u001b[39;00m \u001b[38;5;21mcreate\u001b[39m(\n\u001b[0;32m    873\u001b[0m     \u001b[38;5;28mself\u001b[39m,\n\u001b[1;32m   (...)\u001b[0m\n\u001b[0;32m    911\u001b[0m     timeout: \u001b[38;5;28mfloat\u001b[39m \u001b[38;5;241m|\u001b[39m httpx\u001b[38;5;241m.\u001b[39mTimeout \u001b[38;5;241m|\u001b[39m \u001b[38;5;28;01mNone\u001b[39;00m \u001b[38;5;241m|\u001b[39m NotGiven \u001b[38;5;241m=\u001b[39m NOT_GIVEN,\n\u001b[0;32m    912\u001b[0m ) \u001b[38;5;241m-\u001b[39m\u001b[38;5;241m>\u001b[39m ChatCompletion \u001b[38;5;241m|\u001b[39m Stream[ChatCompletionChunk]:\n\u001b[0;32m    913\u001b[0m     validate_response_format(response_format)\n\u001b[1;32m--> 914\u001b[0m     \u001b[38;5;28;01mreturn\u001b[39;00m \u001b[38;5;28mself\u001b[39m\u001b[38;5;241m.\u001b[39m_post(\n\u001b[0;32m    915\u001b[0m         \u001b[38;5;124m\"\u001b[39m\u001b[38;5;124m/chat/completions\u001b[39m\u001b[38;5;124m\"\u001b[39m,\n\u001b[0;32m    916\u001b[0m         body\u001b[38;5;241m=\u001b[39mmaybe_transform(\n\u001b[0;32m    917\u001b[0m             {\n\u001b[0;32m    918\u001b[0m                 \u001b[38;5;124m\"\u001b[39m\u001b[38;5;124mmessages\u001b[39m\u001b[38;5;124m\"\u001b[39m: messages,\n\u001b[0;32m    919\u001b[0m                 \u001b[38;5;124m\"\u001b[39m\u001b[38;5;124mmodel\u001b[39m\u001b[38;5;124m\"\u001b[39m: model,\n\u001b[0;32m    920\u001b[0m                 \u001b[38;5;124m\"\u001b[39m\u001b[38;5;124maudio\u001b[39m\u001b[38;5;124m\"\u001b[39m: audio,\n\u001b[0;32m    921\u001b[0m                 \u001b[38;5;124m\"\u001b[39m\u001b[38;5;124mfrequency_penalty\u001b[39m\u001b[38;5;124m\"\u001b[39m: frequency_penalty,\n\u001b[0;32m    922\u001b[0m                 \u001b[38;5;124m\"\u001b[39m\u001b[38;5;124mfunction_call\u001b[39m\u001b[38;5;124m\"\u001b[39m: function_call,\n\u001b[0;32m    923\u001b[0m                 \u001b[38;5;124m\"\u001b[39m\u001b[38;5;124mfunctions\u001b[39m\u001b[38;5;124m\"\u001b[39m: functions,\n\u001b[0;32m    924\u001b[0m                 \u001b[38;5;124m\"\u001b[39m\u001b[38;5;124mlogit_bias\u001b[39m\u001b[38;5;124m\"\u001b[39m: logit_bias,\n\u001b[0;32m    925\u001b[0m                 \u001b[38;5;124m\"\u001b[39m\u001b[38;5;124mlogprobs\u001b[39m\u001b[38;5;124m\"\u001b[39m: logprobs,\n\u001b[0;32m    926\u001b[0m                 \u001b[38;5;124m\"\u001b[39m\u001b[38;5;124mmax_completion_tokens\u001b[39m\u001b[38;5;124m\"\u001b[39m: max_completion_tokens,\n\u001b[0;32m    927\u001b[0m                 \u001b[38;5;124m\"\u001b[39m\u001b[38;5;124mmax_tokens\u001b[39m\u001b[38;5;124m\"\u001b[39m: max_tokens,\n\u001b[0;32m    928\u001b[0m                 \u001b[38;5;124m\"\u001b[39m\u001b[38;5;124mmetadata\u001b[39m\u001b[38;5;124m\"\u001b[39m: metadata,\n\u001b[0;32m    929\u001b[0m                 \u001b[38;5;124m\"\u001b[39m\u001b[38;5;124mmodalities\u001b[39m\u001b[38;5;124m\"\u001b[39m: modalities,\n\u001b[0;32m    930\u001b[0m                 \u001b[38;5;124m\"\u001b[39m\u001b[38;5;124mn\u001b[39m\u001b[38;5;124m\"\u001b[39m: n,\n\u001b[0;32m    931\u001b[0m                 \u001b[38;5;124m\"\u001b[39m\u001b[38;5;124mparallel_tool_calls\u001b[39m\u001b[38;5;124m\"\u001b[39m: parallel_tool_calls,\n\u001b[0;32m    932\u001b[0m                 \u001b[38;5;124m\"\u001b[39m\u001b[38;5;124mprediction\u001b[39m\u001b[38;5;124m\"\u001b[39m: prediction,\n\u001b[0;32m    933\u001b[0m                 \u001b[38;5;124m\"\u001b[39m\u001b[38;5;124mpresence_penalty\u001b[39m\u001b[38;5;124m\"\u001b[39m: presence_penalty,\n\u001b[0;32m    934\u001b[0m                 \u001b[38;5;124m\"\u001b[39m\u001b[38;5;124mreasoning_effort\u001b[39m\u001b[38;5;124m\"\u001b[39m: reasoning_effort,\n\u001b[0;32m    935\u001b[0m                 \u001b[38;5;124m\"\u001b[39m\u001b[38;5;124mresponse_format\u001b[39m\u001b[38;5;124m\"\u001b[39m: response_format,\n\u001b[0;32m    936\u001b[0m                 \u001b[38;5;124m\"\u001b[39m\u001b[38;5;124mseed\u001b[39m\u001b[38;5;124m\"\u001b[39m: seed,\n\u001b[0;32m    937\u001b[0m                 \u001b[38;5;124m\"\u001b[39m\u001b[38;5;124mservice_tier\u001b[39m\u001b[38;5;124m\"\u001b[39m: service_tier,\n\u001b[0;32m    938\u001b[0m                 \u001b[38;5;124m\"\u001b[39m\u001b[38;5;124mstop\u001b[39m\u001b[38;5;124m\"\u001b[39m: stop,\n\u001b[0;32m    939\u001b[0m                 \u001b[38;5;124m\"\u001b[39m\u001b[38;5;124mstore\u001b[39m\u001b[38;5;124m\"\u001b[39m: store,\n\u001b[0;32m    940\u001b[0m                 \u001b[38;5;124m\"\u001b[39m\u001b[38;5;124mstream\u001b[39m\u001b[38;5;124m\"\u001b[39m: stream,\n\u001b[0;32m    941\u001b[0m                 \u001b[38;5;124m\"\u001b[39m\u001b[38;5;124mstream_options\u001b[39m\u001b[38;5;124m\"\u001b[39m: stream_options,\n\u001b[0;32m    942\u001b[0m                 \u001b[38;5;124m\"\u001b[39m\u001b[38;5;124mtemperature\u001b[39m\u001b[38;5;124m\"\u001b[39m: temperature,\n\u001b[0;32m    943\u001b[0m                 \u001b[38;5;124m\"\u001b[39m\u001b[38;5;124mtool_choice\u001b[39m\u001b[38;5;124m\"\u001b[39m: tool_choice,\n\u001b[0;32m    944\u001b[0m                 \u001b[38;5;124m\"\u001b[39m\u001b[38;5;124mtools\u001b[39m\u001b[38;5;124m\"\u001b[39m: tools,\n\u001b[0;32m    945\u001b[0m                 \u001b[38;5;124m\"\u001b[39m\u001b[38;5;124mtop_logprobs\u001b[39m\u001b[38;5;124m\"\u001b[39m: top_logprobs,\n\u001b[0;32m    946\u001b[0m                 \u001b[38;5;124m\"\u001b[39m\u001b[38;5;124mtop_p\u001b[39m\u001b[38;5;124m\"\u001b[39m: top_p,\n\u001b[0;32m    947\u001b[0m                 \u001b[38;5;124m\"\u001b[39m\u001b[38;5;124muser\u001b[39m\u001b[38;5;124m\"\u001b[39m: user,\n\u001b[0;32m    948\u001b[0m                 \u001b[38;5;124m\"\u001b[39m\u001b[38;5;124mweb_search_options\u001b[39m\u001b[38;5;124m\"\u001b[39m: web_search_options,\n\u001b[0;32m    949\u001b[0m             },\n\u001b[0;32m    950\u001b[0m             completion_create_params\u001b[38;5;241m.\u001b[39mCompletionCreateParams,\n\u001b[0;32m    951\u001b[0m         ),\n\u001b[0;32m    952\u001b[0m         options\u001b[38;5;241m=\u001b[39mmake_request_options(\n\u001b[0;32m    953\u001b[0m             extra_headers\u001b[38;5;241m=\u001b[39mextra_headers, extra_query\u001b[38;5;241m=\u001b[39mextra_query, extra_body\u001b[38;5;241m=\u001b[39mextra_body, timeout\u001b[38;5;241m=\u001b[39mtimeout\n\u001b[0;32m    954\u001b[0m         ),\n\u001b[0;32m    955\u001b[0m         cast_to\u001b[38;5;241m=\u001b[39mChatCompletion,\n\u001b[0;32m    956\u001b[0m         stream\u001b[38;5;241m=\u001b[39mstream \u001b[38;5;129;01mor\u001b[39;00m \u001b[38;5;28;01mFalse\u001b[39;00m,\n\u001b[0;32m    957\u001b[0m         stream_cls\u001b[38;5;241m=\u001b[39mStream[ChatCompletionChunk],\n\u001b[0;32m    958\u001b[0m     )\n",
      "File \u001b[1;32m~\\anaconda3\\Lib\\site-packages\\openai\\_base_client.py:1242\u001b[0m, in \u001b[0;36mSyncAPIClient.post\u001b[1;34m(self, path, cast_to, body, options, files, stream, stream_cls)\u001b[0m\n\u001b[0;32m   1228\u001b[0m \u001b[38;5;28;01mdef\u001b[39;00m \u001b[38;5;21mpost\u001b[39m(\n\u001b[0;32m   1229\u001b[0m     \u001b[38;5;28mself\u001b[39m,\n\u001b[0;32m   1230\u001b[0m     path: \u001b[38;5;28mstr\u001b[39m,\n\u001b[1;32m   (...)\u001b[0m\n\u001b[0;32m   1237\u001b[0m     stream_cls: \u001b[38;5;28mtype\u001b[39m[_StreamT] \u001b[38;5;241m|\u001b[39m \u001b[38;5;28;01mNone\u001b[39;00m \u001b[38;5;241m=\u001b[39m \u001b[38;5;28;01mNone\u001b[39;00m,\n\u001b[0;32m   1238\u001b[0m ) \u001b[38;5;241m-\u001b[39m\u001b[38;5;241m>\u001b[39m ResponseT \u001b[38;5;241m|\u001b[39m _StreamT:\n\u001b[0;32m   1239\u001b[0m     opts \u001b[38;5;241m=\u001b[39m FinalRequestOptions\u001b[38;5;241m.\u001b[39mconstruct(\n\u001b[0;32m   1240\u001b[0m         method\u001b[38;5;241m=\u001b[39m\u001b[38;5;124m\"\u001b[39m\u001b[38;5;124mpost\u001b[39m\u001b[38;5;124m\"\u001b[39m, url\u001b[38;5;241m=\u001b[39mpath, json_data\u001b[38;5;241m=\u001b[39mbody, files\u001b[38;5;241m=\u001b[39mto_httpx_files(files), \u001b[38;5;241m*\u001b[39m\u001b[38;5;241m*\u001b[39moptions\n\u001b[0;32m   1241\u001b[0m     )\n\u001b[1;32m-> 1242\u001b[0m     \u001b[38;5;28;01mreturn\u001b[39;00m cast(ResponseT, \u001b[38;5;28mself\u001b[39m\u001b[38;5;241m.\u001b[39mrequest(cast_to, opts, stream\u001b[38;5;241m=\u001b[39mstream, stream_cls\u001b[38;5;241m=\u001b[39mstream_cls))\n",
      "File \u001b[1;32m~\\anaconda3\\Lib\\site-packages\\openai\\_base_client.py:919\u001b[0m, in \u001b[0;36mSyncAPIClient.request\u001b[1;34m(self, cast_to, options, remaining_retries, stream, stream_cls)\u001b[0m\n\u001b[0;32m    916\u001b[0m \u001b[38;5;28;01melse\u001b[39;00m:\n\u001b[0;32m    917\u001b[0m     retries_taken \u001b[38;5;241m=\u001b[39m \u001b[38;5;241m0\u001b[39m\n\u001b[1;32m--> 919\u001b[0m \u001b[38;5;28;01mreturn\u001b[39;00m \u001b[38;5;28mself\u001b[39m\u001b[38;5;241m.\u001b[39m_request(\n\u001b[0;32m    920\u001b[0m     cast_to\u001b[38;5;241m=\u001b[39mcast_to,\n\u001b[0;32m    921\u001b[0m     options\u001b[38;5;241m=\u001b[39moptions,\n\u001b[0;32m    922\u001b[0m     stream\u001b[38;5;241m=\u001b[39mstream,\n\u001b[0;32m    923\u001b[0m     stream_cls\u001b[38;5;241m=\u001b[39mstream_cls,\n\u001b[0;32m    924\u001b[0m     retries_taken\u001b[38;5;241m=\u001b[39mretries_taken,\n\u001b[0;32m    925\u001b[0m )\n",
      "File \u001b[1;32m~\\anaconda3\\Lib\\site-packages\\openai\\_base_client.py:1023\u001b[0m, in \u001b[0;36mSyncAPIClient._request\u001b[1;34m(self, cast_to, options, retries_taken, stream, stream_cls)\u001b[0m\n\u001b[0;32m   1020\u001b[0m         err\u001b[38;5;241m.\u001b[39mresponse\u001b[38;5;241m.\u001b[39mread()\n\u001b[0;32m   1022\u001b[0m     log\u001b[38;5;241m.\u001b[39mdebug(\u001b[38;5;124m\"\u001b[39m\u001b[38;5;124mRe-raising status error\u001b[39m\u001b[38;5;124m\"\u001b[39m)\n\u001b[1;32m-> 1023\u001b[0m     \u001b[38;5;28;01mraise\u001b[39;00m \u001b[38;5;28mself\u001b[39m\u001b[38;5;241m.\u001b[39m_make_status_error_from_response(err\u001b[38;5;241m.\u001b[39mresponse) \u001b[38;5;28;01mfrom\u001b[39;00m \u001b[38;5;28;01mNone\u001b[39;00m\n\u001b[0;32m   1025\u001b[0m \u001b[38;5;28;01mreturn\u001b[39;00m \u001b[38;5;28mself\u001b[39m\u001b[38;5;241m.\u001b[39m_process_response(\n\u001b[0;32m   1026\u001b[0m     cast_to\u001b[38;5;241m=\u001b[39mcast_to,\n\u001b[0;32m   1027\u001b[0m     options\u001b[38;5;241m=\u001b[39moptions,\n\u001b[1;32m   (...)\u001b[0m\n\u001b[0;32m   1031\u001b[0m     retries_taken\u001b[38;5;241m=\u001b[39mretries_taken,\n\u001b[0;32m   1032\u001b[0m )\n",
      "\u001b[1;31mPermissionDeniedError\u001b[0m: Error code: 403 - {'code': 'The caller does not have permission to execute the specified operation', 'error': \"Your newly created teams doesn't have any credits yet. You can purchase credits on https://console.x.ai/team/9a21b079-0e2c-40d5-ae29-e0e5dd1e349b.\"}"
     ]
    }
   ],
   "source": [
    "# Now you can use this in your Langchain applications\n",
    "response = xai_chat.invoke(\"does xai have released any embedding models\")"
   ]
  },
  {
   "cell_type": "code",
   "execution_count": 29,
   "id": "3acd2fa0-b84c-45d6-bfb5-8dbe55bea5ee",
   "metadata": {},
   "outputs": [],
   "source": [
    "groq_api= 'your_api_key'\n",
    "os.environ['GROQ_API_KEY'] = groq_api"
   ]
  },
  {
   "cell_type": "code",
   "execution_count": 32,
   "id": "aaa9c260-81c9-43ae-ab18-a99953d0469a",
   "metadata": {},
   "outputs": [],
   "source": [
    "from langchain_groq import ChatGroq\n",
    "\n",
    "groq_llm = ChatGroq(\n",
    "    model=\"llama-3.1-8b-instant\",\n",
    "    temperature=0,\n",
    "    max_tokens=100000\n",
    ")"
   ]
  },
  {
   "cell_type": "code",
   "execution_count": 36,
   "id": "ab6b6469-68fe-46e6-9ae2-838c309e7052",
   "metadata": {},
   "outputs": [
    {
     "data": {
      "application/vnd.jupyter.widget-view+json": {
       "model_id": "d4dc79ba202b450dad23d3e3684d5f4b",
       "version_major": 2,
       "version_minor": 0
      },
      "text/plain": [
       "Evaluating:   0%|          | 0/4 [00:00<?, ?it/s]"
      ]
     },
     "metadata": {},
     "output_type": "display_data"
    }
   ],
   "source": [
    "result = evaluate(\n",
    "    dataset=dataset, \n",
    "    llm=groq_llm,\n",
    "    embeddings=cohere_embeddings\n",
    ")"
   ]
  },
  {
   "cell_type": "code",
   "execution_count": 37,
   "id": "5cccb3e4-e7e5-4816-ac72-c18d85bf8a34",
   "metadata": {},
   "outputs": [
    {
     "data": {
      "text/plain": [
       "{'answer_relevancy': 0.8078, 'context_precision': 1.0000, 'faithfulness': 1.0000, 'context_recall': 1.0000}"
      ]
     },
     "execution_count": 37,
     "metadata": {},
     "output_type": "execute_result"
    }
   ],
   "source": [
    "result"
   ]
  },
  {
   "cell_type": "code",
   "execution_count": 54,
   "id": "b005aec1-dc73-4226-86bc-9f92ed309ec0",
   "metadata": {},
   "outputs": [],
   "source": [
    "# Sample 2\n",
    "user_input = \"Can I use GOKAP InnoTech as both a freelancer and a client?\"\n",
    "sample2 = SingleTurnSample(\n",
    "    user_input=user_input,\n",
    "    retrieved_contexts=rag_pipeline.get_retrieval_content(user_input),\n",
    "    response=chain.invoke(user_input),\n",
    "    reference=\"Yes, GOKAP InnoTech allows users to maintain both freelancer and client profiles under a single account. After logging in, go to 'Account Settings' > 'Profile Management', and click 'Add New Profile Type'. Choose either 'Freelancer' or 'Client' and fill in the required information. Once set up, you can toggle between profiles easily via the top navigation bar.\"\n",
    ")"
   ]
  },
  {
   "cell_type": "code",
   "execution_count": 55,
   "id": "1349bf35-f051-43d7-aaeb-1927c6f93db4",
   "metadata": {},
   "outputs": [
    {
     "data": {
      "text/plain": [
       "SingleTurnSample(user_input='Can I use GOKAP InnoTech as both a freelancer and a client?', retrieved_contexts=['1. Company Overview\\nGOKAP Innotech is a Bhutan-based startup founded to bridge the gap between freelancers and clients through an innovative platform that facilitates seamless collaboration. The company’s mission is \"Tech Excellence, Customer Happiness,\" focusing on transforming lives through technology innovation 4. With over 100+ happy customers and 100+ completed projects, GOKAP has established itself as a trusted name in the tech industry.\\n\\nFull Name: GOKAP InnoTech (commonly referred to as GIT)\\nFounded: 2020\\nIndustry: Technology, Freelance Marketplace\\nHeadquarters: Thimphu, Bhutan\\nContact Information:\\nPhone: +97517570958\\nEmail: GIT@gokapinnotech.com\\nWebsite: www.gokapinnotech.com\\n\\n2. Platform Description\\nGOKAP InnoTech operates a digital marketplace connecting freelancers with clients. The platform facilitates project-based work where clients can post projects and freelancers can apply to complete these projects for compensation.\\nUser Types\\n\\nClients:\\n\\nBusinesses or individuals seeking professional services\\nCan post projects, set budgets, and hire freelancers\\nReview freelancer profiles, portfolios, and ratings before hiring\\nRelease payment upon satisfactory project completion\\n\\n\\nFreelancers:\\n\\nProfessionals offering services across various categories\\nCreate profiles highlighting skills, experience, and portfolio\\nBrowse and apply for available projects\\nComplete work and receive payment through the platform\\n\\n\\n\\n3. Key Features\\nAccount Creation & Management\\n\\nSimple registration process requiring email verification\\nProfile customization options\\nDocument verification for identity confirmation\\nAccount tiers: Basic, Premium, and Enterprise\\n\\nProject Management\\n\\nProject posting interface for clients\\nProject discovery tool for freelancers\\nMilestone tracking system\\nDeadline management features\\nFile sharing capabilities\\n\\nPayment System', 'The fee structure is designed to maintain platform quality while keeping costs reasonable for clients.\\n\\n## Freelancer-Specific\\n\\n### 1. \"How do I apply for projects?\"\\nTo apply for projects on GOKAP InnoTech as a freelancer:\\n\\n1. Log in to your freelancer account\\n2. Navigate to \"Find Projects\" in the main menu\\n3. Browse available projects or use filters to narrow your search:\\n   - Category/skills\\n   - Budget range\\n   - Project duration\\n   - Client rating\\n   - Project type (hourly/fixed)\\n\\n4. Click on a project to view full details\\n5. To apply, click \"Submit Proposal\"\\n6. Complete the proposal form:\\n   - Your bid amount (fixed price or hourly rate)\\n   - Estimated completion time\\n   - Cover letter explaining why you\\'re the right fit\\n   - Answers to any client questions\\n   - Relevant samples from your portfolio\\n   - Milestone suggestions (for larger projects)\\n\\n7. Review your proposal for clarity and professionalism\\n8. Submit your proposal\\n\\nTips for successful applications:\\n- Customize each proposal to the specific project\\n- Highlight relevant experience and skills\\n- Be realistic about timeline and budget\\n- Address the client\\'s needs directly\\n- Keep your profile and portfolio updated\\n- Respond promptly if the client has questions\\n\\n### 2. \"When and how will I get paid?\"\\nOn GOKAP InnoTech, freelancers are paid according to the following process:\\n\\n**For Fixed-Price Projects:**\\n1. Client funds the project/milestone in escrow before you start work\\n2. You complete and submit the agreed deliverables\\n3. The client reviews and approves the work\\n4. Payment is released to your GOKAP account within 24 hours of approval\\n5. Funds in your GOKAP account can be withdrawn using your preferred method', '4. **Partial Payment Option:** For partially completed work, you can:\\n   - Propose a partial payment that reflects the usable portion\\n   - Negotiate this directly or through mediation\\n\\n5. **Refund Policy:** In cases where deliverables completely fail to meet agreed requirements:\\n   - Full refunds may be issued for fixed-price projects\\n   - Hourly projects may be eligible for partial refunds based on review\\n\\nGOKAP\\'s goal is to ensure fair treatment for both clients and freelancers while maintaining platform integrity.\\n\\n### 5. \"Can I request revisions to completed work?\"\\nYes, you can request revisions to completed work on GOKAP InnoTech:\\n\\n1. Navigate to \"My Projects\" and select the relevant project\\n2. Go to the \"Submissions\" tab and find the submission you want revised\\n3. Click on \"Request Revisions\"\\n4. In the revision request form:\\n   - Be specific about what needs to be changed\\n   - Reference the original requirements as needed\\n   - Attach examples or marked-up files if helpful\\n   - Set a reasonable deadline for the revisions\\n5. Submit the revision request\\n\\nImportant points about revisions:\\n- The number of revision rounds should align with what was agreed upon in the initial contract\\n- Additional revisions beyond the agreed amount may incur extra charges\\n- Major changes that significantly alter the original scope may require a new milestone or contract adjustment\\n- All revision requests and communications are logged for transparency\\n- The revision timeline doesn\\'t affect the original project deadline unless manually extended\\n\\n### 6. \"How do I extend a project deadline?\"\\nTo extend a project deadline on GOKAP InnoTech:'], reference_contexts=None, response='Yes, you can use GOKAP InnoTech as both a freelancer and a client. As a freelancer, you can offer your professional services to clients and get paid for completing projects. As a client, you can post projects and hire freelancers to complete them for you. The platform allows you to easily switch between these two roles, providing a convenient and seamless experience for both freelancers and clients.', multi_responses=None, reference=\"Yes, GOKAP InnoTech allows users to maintain both freelancer and client profiles under a single account. After logging in, go to 'Account Settings' > 'Profile Management', and click 'Add New Profile Type'. Choose either 'Freelancer' or 'Client' and fill in the required information. Once set up, you can toggle between profiles easily via the top navigation bar.\", rubrics=None)"
      ]
     },
     "execution_count": 55,
     "metadata": {},
     "output_type": "execute_result"
    }
   ],
   "source": [
    "sample2"
   ]
  },
  {
   "cell_type": "code",
   "execution_count": 57,
   "id": "12f84062-c7a5-4bbc-ba89-d53faa117004",
   "metadata": {},
   "outputs": [],
   "source": [
    "dataset = EvaluationDataset(samples=[sample2])"
   ]
  },
  {
   "cell_type": "code",
   "execution_count": 58,
   "id": "605a8138-10b9-43f7-88df-e820b36b3e9e",
   "metadata": {},
   "outputs": [
    {
     "data": {
      "text/plain": [
       "EvaluationDataset(features=['user_input', 'retrieved_contexts', 'response', 'reference'], len=1)"
      ]
     },
     "execution_count": 58,
     "metadata": {},
     "output_type": "execute_result"
    }
   ],
   "source": [
    "dataset"
   ]
  },
  {
   "cell_type": "code",
   "execution_count": 59,
   "id": "6656edaf-ea6a-4651-8a66-559867b8f3bb",
   "metadata": {},
   "outputs": [
    {
     "data": {
      "application/vnd.jupyter.widget-view+json": {
       "model_id": "d70c0e5c5e27443a9e17ac76ce6456fb",
       "version_major": 2,
       "version_minor": 0
      },
      "text/plain": [
       "Evaluating:   0%|          | 0/4 [00:00<?, ?it/s]"
      ]
     },
     "metadata": {},
     "output_type": "display_data"
    }
   ],
   "source": [
    "result = evaluate(\n",
    "    dataset=dataset, \n",
    "    llm=groq_llm,\n",
    "    embeddings=cohere_embeddings\n",
    ")"
   ]
  },
  {
   "cell_type": "code",
   "execution_count": 60,
   "id": "8ddad8a3-1532-4d5c-b2e4-367198aa117d",
   "metadata": {},
   "outputs": [
    {
     "data": {
      "text/plain": [
       "{'answer_relevancy': 0.6165, 'context_precision': 1.0000, 'faithfulness': 0.8333, 'context_recall': 0.2500}"
      ]
     },
     "execution_count": 60,
     "metadata": {},
     "output_type": "execute_result"
    }
   ],
   "source": [
    "result"
   ]
  },
  {
   "cell_type": "code",
   "execution_count": 61,
   "id": "e6148c93-c172-44b0-9fe1-58878c16246c",
   "metadata": {},
   "outputs": [],
   "source": [
    "user_input = \"What documents are needed for identity verification?\"\n",
    "sample3 = SingleTurnSample(\n",
    "    user_input=user_input,\n",
    "    retrieved_contexts=rag_pipeline.get_retrieval_content(user_input),\n",
    "    response=chain.invoke(user_input),\n",
    "    reference=\"For identity verification, GOKAP InnoTech requires a valid government-issued photo ID (passport, national ID, or driver’s license) and a selfie holding that ID. For address verification, accepted documents include a utility bill or bank statement from the past 3 months, or any official government document showing your address. Business accounts must also submit a business registration certificate, tax ID, and company letterhead or official document. All files must be in JPG, PNG, or PDF format (max 5MB), clearly visible, and in color.\"\n",
    ")"
   ]
  },
  {
   "cell_type": "code",
   "execution_count": 66,
   "id": "2ed22350-d806-4d22-bc3a-588ea957bec7",
   "metadata": {},
   "outputs": [
    {
     "data": {
      "text/plain": [
       "SingleTurnSample(user_input='What documents are needed for identity verification?', retrieved_contexts=['# GOKAP InnoTech - Comprehensive FAQ Answers\\n\\n## Account Management\\n\\n### 1. \"How do I reset my password?\"\\nTo reset your password on GOKAP InnoTech:\\n1. Click on the \"Login\" button at the top right of the homepage\\n2. Select \"Forgot Password\" below the login form\\n3. Enter the email address associated with your account\\n4. Check your email inbox for a password reset link (check spam/junk folders if not visible)\\n5. Click the link and follow instructions to create a new password\\n6. Use your new password to log in\\n\\nIf you don\\'t receive the reset email within 10 minutes, you can contact our support team at support@gokapinnotech.com for assistance.\\n\\n### 2. \"Can I have both a freelancer and client account?\"\\nYes, GOKAP InnoTech allows you to maintain both freelancer and client profiles under a single account. To set this up:\\n\\n1. Log in to your existing account\\n2. Go to \"Account Settings\" from the dropdown menu\\n3. Select \"Profile Management\"\\n4. Click on \"Add New Profile Type\"\\n5. Choose the profile type you want to add (Freelancer or Client)\\n6. Complete the required information for the new profile\\n7. Save changes\\n\\nYou can easily switch between your freelancer and client profiles using the toggle in the top navigation bar once both are set up. This is especially useful for professionals who both offer services and hire others for different projects.\\n\\n### 3. \"How do I verify my identity?\"\\nIdentity verification on GOKAP InnoTech involves these steps:\\n\\n1. Log in to your account\\n2. Navigate to \"Account Settings\" > \"Verification Center\"\\n3. Select \"Identity Verification\"\\n4. Choose your verification method:\\n   - National ID/Passport verification\\n   - Phone number verification\\n   - Address verification\\n5. Upload the required documents as specified\\n6. Submit your verification request', 'Our team typically reviews verification requests within 1-2 business days. You\\'ll receive an email notification once your verification is complete. Verified accounts receive a special badge on their profile, which increases trust with potential clients or freelancers.\\n\\n### 4. \"How can I deactivate my account temporarily?\"\\nTo temporarily deactivate your GOKAP InnoTech account:\\n\\n1. Log in to your account\\n2. Go to \"Account Settings\"\\n3. Scroll down to \"Account Status\"\\n4. Select \"Temporarily Deactivate Account\"\\n5. Choose a reason for deactivation from the dropdown menu\\n6. Specify the duration (1 week to 3 months)\\n7. Confirm your decision\\n\\nDuring deactivation:\\n- Your profile won\\'t appear in search results\\n- Ongoing projects will not be affected\\n- You\\'ll continue to receive essential emails\\n- You can reactivate anytime by logging in again\\n\\nNote that if you have active projects or pending payments, you\\'ll need to complete those before deactivation can take effect.\\n\\n### 5. \"What documents are required for verification?\"\\nGOKAP InnoTech requires the following documents for account verification:\\n\\n**For Identity Verification:**\\n- A valid government-issued photo ID (passport, national ID card, or driver\\'s license)\\n- A clear selfie holding your ID (following our guidelines)\\n\\n**For Address Verification:**\\n- A utility bill (electricity, water, internet) dated within the last 3 months\\n- A bank statement dated within the last 3 months\\n- A government-issued document showing your address\\n\\n**For Business Accounts (additional):**\\n- Business registration certificate\\n- Tax identification document\\n- Company letterhead or official document\\n\\nAll documents must be:\\n- Valid and not expired\\n- Clearly visible and legible\\n- In color (not black and white)\\n- In JPG, PNG, or PDF format (max 5MB each)\\n\\n## Client-Specific\\n\\n### 1. \"How do I post a new project?\"\\nTo post a new project on GOKAP InnoTech:', '8. Platform Policies\\nRefund Policy\\n\\nFull refund if no work has been started\\nPartial refund for incomplete work\\nNo refund after work is approved\\n14-day dispute window for quality issues\\n\\nPrivacy Policy\\n\\nUser data collection limited to platform functionality\\nNo selling of personal information to third parties\\nData retention period of 2 years after account closure\\nOption to download personal data\\nRegular security audits\\n\\nTerms of Service Highlights\\n\\nIntellectual property rights transfer upon payment\\nProhibition of off-platform payments\\nZero tolerance for fraudulent activities\\nAccount suspension for violation of terms\\nMandatory arbitration for disputes\\n\\n\\n\\n9. Recent Updates & News\\n\\nNew mobile app launched (January 2025)\\nEnhanced analytics dashboard (December 2024)\\nIntroduction of project milestone feature (November 2024)\\nPlatform redesign for improved user experience (October 2024)\\nNew payment methods added (September 2024)\\n\\n10. Troubleshooting Steps\\nAccount Access Issues\\n\\nTry resetting password via email link\\nClear browser cache and cookies\\nUse incognito/private browsing mode\\nTry a different browser\\nContact support if issues persist\\n\\nPayment Problems\\n\\nVerify card/bank details are correct\\nCheck account balance\\nEnsure payment method is supported in your region\\nTry an alternative payment method\\nContact your bank regarding any holds or restrictions\\n\\nFile Upload Issues\\n\\nCheck file size (max 25MB per file)\\nVerify file format is supported\\nTry compressing the file\\nUpload files individually rather than in bulk\\nUse a different browser or device\\n\\n\\n11. Upcoming Featues\\n1. AI-Powered Skill Matching\\nOverview\\nThe AI-powered skill matching system will use machine learning algorithms to analyze freelancer profiles and client project requirements, creating more accurate matches between talent and opportunities.\\nKey Features'], reference_contexts=None, response=\"For identity verification on your GOKAP InnoTech account, you'll need to prepare the following documents:\\n\\n1. A valid government-issued photo ID: This could be a passport, national ID card, or driver's license.\\n2. A clear selfie holding your ID: Make sure to follow GOKAP InnoTech's guidelines when taking the selfie with your ID.\\n\\nAdditionally, if you need to verify your address, you'll require:\\n\\n1. A utility bill dated within the last 3 months: This can be an electricity, water, or internet bill.\\n2. A bank statement dated within the last 3 months.\\n3. A government-issued document showing your address.\\n\\nBusiness accounts will need to provide:\\n\\n1. Business registration certificate.\\n2. Tax identification document.\\n3. Company letterhead or official document.\\n\\nEnsure all documents are valid, clearly visible, in color, and in JPG, PNG, or PDF format (max 5MB each).\", multi_responses=None, reference='For identity verification, GOKAP InnoTech requires a valid government-issued photo ID (passport, national ID, or driver’s license) and a selfie holding that ID. For address verification, accepted documents include a utility bill or bank statement from the past 3 months, or any official government document showing your address. Business accounts must also submit a business registration certificate, tax ID, and company letterhead or official document. All files must be in JPG, PNG, or PDF format (max 5MB), clearly visible, and in color.', rubrics=None)"
      ]
     },
     "execution_count": 66,
     "metadata": {},
     "output_type": "execute_result"
    }
   ],
   "source": [
    "sample3"
   ]
  },
  {
   "cell_type": "code",
   "execution_count": 62,
   "id": "75e705fc-e41a-4dab-aae6-816b10c7f6ee",
   "metadata": {},
   "outputs": [],
   "source": [
    "dataset3 = EvaluationDataset(samples=[sample3])"
   ]
  },
  {
   "cell_type": "code",
   "execution_count": 63,
   "id": "6c8ffee0-00d9-4df7-acb6-cffe94713d9f",
   "metadata": {},
   "outputs": [
    {
     "data": {
      "text/plain": [
       "EvaluationDataset(features=['user_input', 'retrieved_contexts', 'response', 'reference'], len=1)"
      ]
     },
     "execution_count": 63,
     "metadata": {},
     "output_type": "execute_result"
    }
   ],
   "source": [
    "dataset3"
   ]
  },
  {
   "cell_type": "code",
   "execution_count": 64,
   "id": "7e9cdafa-58c5-4131-9947-4af89ada131a",
   "metadata": {},
   "outputs": [
    {
     "data": {
      "application/vnd.jupyter.widget-view+json": {
       "model_id": "b298082f21ea4b53807bc018db0abb78",
       "version_major": 2,
       "version_minor": 0
      },
      "text/plain": [
       "Evaluating:   0%|          | 0/4 [00:00<?, ?it/s]"
      ]
     },
     "metadata": {},
     "output_type": "display_data"
    }
   ],
   "source": [
    "result = evaluate(\n",
    "    dataset=dataset3, \n",
    "    llm=groq_llm,\n",
    "    embeddings=cohere_embeddings\n",
    ")"
   ]
  },
  {
   "cell_type": "code",
   "execution_count": 65,
   "id": "52e8e602-ee57-4bb3-9a0d-11647637bdd3",
   "metadata": {},
   "outputs": [
    {
     "data": {
      "text/plain": [
       "{'answer_relevancy': 0.6383, 'context_precision': 1.0000, 'faithfulness': 1.0000, 'context_recall': 0.7143}"
      ]
     },
     "execution_count": 65,
     "metadata": {},
     "output_type": "execute_result"
    }
   ],
   "source": [
    "result"
   ]
  },
  {
   "cell_type": "code",
   "execution_count": 68,
   "id": "2ec0833f-1eb8-4a80-95e7-a722d85db867",
   "metadata": {},
   "outputs": [],
   "source": [
    "# Sample 4\n",
    "user_input = \"How do I temporarily deactivate my GOKAP InnoTech account?\"\n",
    "sample4 = SingleTurnSample(\n",
    "    user_input=user_input,\n",
    "    retrieved_contexts=rag_pipeline.get_retrieval_content(user_input),\n",
    "    response=chain.invoke(user_input),\n",
    "    reference=\"To temporarily deactivate your account, log in and go to 'Account Settings', scroll to 'Account Status', and select 'Temporarily Deactivate Account'. Choose a reason from the dropdown menu and specify a deactivation duration (from 1 week to 3 months). During deactivation, your profile won’t appear in searches, you’ll still receive essential emails, and active projects won’t be interrupted. You can reactivate your account anytime by logging in again.\"\n",
    ")"
   ]
  },
  {
   "cell_type": "code",
   "execution_count": 69,
   "id": "3765a3e3-e7da-4743-b232-7b804e94d0e3",
   "metadata": {},
   "outputs": [
    {
     "data": {
      "text/plain": [
       "SingleTurnSample(user_input='How do I temporarily deactivate my GOKAP InnoTech account?', retrieved_contexts=['Our team typically reviews verification requests within 1-2 business days. You\\'ll receive an email notification once your verification is complete. Verified accounts receive a special badge on their profile, which increases trust with potential clients or freelancers.\\n\\n### 4. \"How can I deactivate my account temporarily?\"\\nTo temporarily deactivate your GOKAP InnoTech account:\\n\\n1. Log in to your account\\n2. Go to \"Account Settings\"\\n3. Scroll down to \"Account Status\"\\n4. Select \"Temporarily Deactivate Account\"\\n5. Choose a reason for deactivation from the dropdown menu\\n6. Specify the duration (1 week to 3 months)\\n7. Confirm your decision\\n\\nDuring deactivation:\\n- Your profile won\\'t appear in search results\\n- Ongoing projects will not be affected\\n- You\\'ll continue to receive essential emails\\n- You can reactivate anytime by logging in again\\n\\nNote that if you have active projects or pending payments, you\\'ll need to complete those before deactivation can take effect.\\n\\n### 5. \"What documents are required for verification?\"\\nGOKAP InnoTech requires the following documents for account verification:\\n\\n**For Identity Verification:**\\n- A valid government-issued photo ID (passport, national ID card, or driver\\'s license)\\n- A clear selfie holding your ID (following our guidelines)\\n\\n**For Address Verification:**\\n- A utility bill (electricity, water, internet) dated within the last 3 months\\n- A bank statement dated within the last 3 months\\n- A government-issued document showing your address\\n\\n**For Business Accounts (additional):**\\n- Business registration certificate\\n- Tax identification document\\n- Company letterhead or official document\\n\\nAll documents must be:\\n- Valid and not expired\\n- Clearly visible and legible\\n- In color (not black and white)\\n- In JPG, PNG, or PDF format (max 5MB each)\\n\\n## Client-Specific\\n\\n### 1. \"How do I post a new project?\"\\nTo post a new project on GOKAP InnoTech:', '# GOKAP InnoTech - Comprehensive FAQ Answers\\n\\n## Account Management\\n\\n### 1. \"How do I reset my password?\"\\nTo reset your password on GOKAP InnoTech:\\n1. Click on the \"Login\" button at the top right of the homepage\\n2. Select \"Forgot Password\" below the login form\\n3. Enter the email address associated with your account\\n4. Check your email inbox for a password reset link (check spam/junk folders if not visible)\\n5. Click the link and follow instructions to create a new password\\n6. Use your new password to log in\\n\\nIf you don\\'t receive the reset email within 10 minutes, you can contact our support team at support@gokapinnotech.com for assistance.\\n\\n### 2. \"Can I have both a freelancer and client account?\"\\nYes, GOKAP InnoTech allows you to maintain both freelancer and client profiles under a single account. To set this up:\\n\\n1. Log in to your existing account\\n2. Go to \"Account Settings\" from the dropdown menu\\n3. Select \"Profile Management\"\\n4. Click on \"Add New Profile Type\"\\n5. Choose the profile type you want to add (Freelancer or Client)\\n6. Complete the required information for the new profile\\n7. Save changes\\n\\nYou can easily switch between your freelancer and client profiles using the toggle in the top navigation bar once both are set up. This is especially useful for professionals who both offer services and hire others for different projects.\\n\\n### 3. \"How do I verify my identity?\"\\nIdentity verification on GOKAP InnoTech involves these steps:\\n\\n1. Log in to your account\\n2. Navigate to \"Account Settings\" > \"Verification Center\"\\n3. Select \"Identity Verification\"\\n4. Choose your verification method:\\n   - National ID/Passport verification\\n   - Phone number verification\\n   - Address verification\\n5. Upload the required documents as specified\\n6. Submit your verification request', '**Important Note:** If you find yourself unable to meet deadlines, communicate proactively with clients and adjust your availability settings to avoid taking on too much work.\\n\\n### 4. \"How do I withdraw my earnings?\"\\nTo withdraw your earnings from GOKAP InnoTech:\\n\\n1. Log in to your freelancer account\\n2. Navigate to \"Finance\" > \"Withdraw Funds\"\\n3. Select your preferred withdrawal method:\\n   - Bank transfer (processing time: 3-5 business days)\\n   - PayPal (processing time: 24 hours)\\n   - Wise/TransferWise (processing time: 1-2 business days)\\n   - Mobile money (for Bhutanese users only, instant)\\n   - Cryptocurrency (BTC, ETH, USDT) (processing time: 24 hours)\\n\\n4. Enter the amount you wish to withdraw\\n5. Verify or update your payment details\\n6. Click \"Request Withdrawal\"\\n7. Confirm the transaction with the verification code sent to your email\\n\\n**Important Information:**\\n- Minimum withdrawal amount: Nu. 500\\n- Standard withdrawal fee: Nu. 100 (waived for amounts over Nu. 10,000)\\n- Express withdrawal option available for 3% fee (processed within 6 hours)\\n- Monthly free withdrawal: Premium freelancers get one fee-free withdrawal per month\\n- Withdrawal requests made before 2 PM Bhutan time are processed same day\\n- Tax forms may be required for certain withdrawal amounts (platform will notify you)\\n- You can save multiple payment methods for different withdrawal options\\n\\n### 5. \"How can I improve my visibility on the platform?\"\\nTo improve your visibility on GOKAP InnoTech as a freelancer:\\n\\n**Profile Optimization:**\\n- Complete your profile 100% (profiles with completion badges appear higher in search)\\n- Use a professional profile photo\\n- Create a compelling, keyword-rich title\\n- Write a detailed bio highlighting your unique value proposition\\n- Add relevant skills and tag expertise level for each\\n- Upload portfolio items with detailed descriptions'], reference_contexts=None, response='To temporarily deactivate your GOKAP InnoTech account, follow these steps:\\n\\n1. Log in to your account.\\n2. Go to \"Account Settings\".\\n3. Scroll down to \"Account Status\".\\n4. Select \"Temporarily Deactivate Account\".\\n5. Choose a reason for deactivation from the dropdown menu.\\n6. Specify the duration (1 week to 3 months).\\n7. Confirm your decision.\\n\\nPlease note that you must complete any active projects and settle any pending payments before deactivation can take effect. During deactivation, your profile won\\'t appear in search results, but ongoing projects won\\'t be affected, and you can reactivate your account anytime by logging in again.', multi_responses=None, reference=\"To temporarily deactivate your account, log in and go to 'Account Settings', scroll to 'Account Status', and select 'Temporarily Deactivate Account'. Choose a reason from the dropdown menu and specify a deactivation duration (from 1 week to 3 months). During deactivation, your profile won’t appear in searches, you’ll still receive essential emails, and active projects won’t be interrupted. You can reactivate your account anytime by logging in again.\", rubrics=None)"
      ]
     },
     "execution_count": 69,
     "metadata": {},
     "output_type": "execute_result"
    }
   ],
   "source": [
    "sample4"
   ]
  },
  {
   "cell_type": "code",
   "execution_count": 70,
   "id": "3de5b45c-fca9-474f-8579-3f5b839f2f4e",
   "metadata": {},
   "outputs": [],
   "source": [
    "dataset4 = EvaluationDataset(samples=[sample4])"
   ]
  },
  {
   "cell_type": "code",
   "execution_count": 71,
   "id": "c36467f0-10b5-4e95-bfea-06fcf2e290d3",
   "metadata": {},
   "outputs": [
    {
     "data": {
      "text/plain": [
       "EvaluationDataset(features=['user_input', 'retrieved_contexts', 'response', 'reference'], len=1)"
      ]
     },
     "execution_count": 71,
     "metadata": {},
     "output_type": "execute_result"
    }
   ],
   "source": [
    "dataset4"
   ]
  },
  {
   "cell_type": "code",
   "execution_count": 72,
   "id": "2fb4c595-e3c5-40db-95d6-4368b16d2e76",
   "metadata": {},
   "outputs": [
    {
     "data": {
      "application/vnd.jupyter.widget-view+json": {
       "model_id": "aabf68af3cb844909544de5f3acd55a5",
       "version_major": 2,
       "version_minor": 0
      },
      "text/plain": [
       "Evaluating:   0%|          | 0/4 [00:00<?, ?it/s]"
      ]
     },
     "metadata": {},
     "output_type": "display_data"
    }
   ],
   "source": [
    "result4 = evaluate(\n",
    "    dataset=dataset3, \n",
    "    llm=groq_llm,\n",
    "    embeddings=cohere_embeddings\n",
    ")"
   ]
  },
  {
   "cell_type": "code",
   "execution_count": 73,
   "id": "480b8ac8-99d1-4312-9436-1eba8bfe4149",
   "metadata": {},
   "outputs": [
    {
     "data": {
      "text/plain": [
       "{'answer_relevancy': 0.6383, 'context_precision': 1.0000, 'faithfulness': 1.0000, 'context_recall': 0.7143}"
      ]
     },
     "execution_count": 73,
     "metadata": {},
     "output_type": "execute_result"
    }
   ],
   "source": [
    "result4"
   ]
  },
  {
   "cell_type": "code",
   "execution_count": 75,
   "id": "c4c19d97-2f89-4a0f-beaf-62911c19ef09",
   "metadata": {},
   "outputs": [],
   "source": [
    "# Sample 5\n",
    "user_input = \"How long does identity verification take on GOKAP InnoTech?\"\n",
    "sample5 = SingleTurnSample(\n",
    "    user_input=user_input,\n",
    "    retrieved_contexts=rag_pipeline.get_retrieval_content(user_input),\n",
    "    response=chain.invoke(user_input),\n",
    "    reference=\"Identity verification on GOKAP InnoTech typically takes 1–2 business days. Once your documents are reviewed and approved, you will receive an email notification. Verified users get a badge on their profile, which helps build trust with potential clients or freelancers.\"\n",
    ")"
   ]
  },
  {
   "cell_type": "code",
   "execution_count": 76,
   "id": "c52b79d8-d91d-4783-9e32-d8faf14bf93e",
   "metadata": {
    "collapsed": true,
    "jupyter": {
     "outputs_hidden": true
    }
   },
   "outputs": [
    {
     "data": {
      "text/plain": [
       "SingleTurnSample(user_input='How long does identity verification take on GOKAP InnoTech?', retrieved_contexts=['# GOKAP InnoTech - Comprehensive FAQ Answers\\n\\n## Account Management\\n\\n### 1. \"How do I reset my password?\"\\nTo reset your password on GOKAP InnoTech:\\n1. Click on the \"Login\" button at the top right of the homepage\\n2. Select \"Forgot Password\" below the login form\\n3. Enter the email address associated with your account\\n4. Check your email inbox for a password reset link (check spam/junk folders if not visible)\\n5. Click the link and follow instructions to create a new password\\n6. Use your new password to log in\\n\\nIf you don\\'t receive the reset email within 10 minutes, you can contact our support team at support@gokapinnotech.com for assistance.\\n\\n### 2. \"Can I have both a freelancer and client account?\"\\nYes, GOKAP InnoTech allows you to maintain both freelancer and client profiles under a single account. To set this up:\\n\\n1. Log in to your existing account\\n2. Go to \"Account Settings\" from the dropdown menu\\n3. Select \"Profile Management\"\\n4. Click on \"Add New Profile Type\"\\n5. Choose the profile type you want to add (Freelancer or Client)\\n6. Complete the required information for the new profile\\n7. Save changes\\n\\nYou can easily switch between your freelancer and client profiles using the toggle in the top navigation bar once both are set up. This is especially useful for professionals who both offer services and hire others for different projects.\\n\\n### 3. \"How do I verify my identity?\"\\nIdentity verification on GOKAP InnoTech involves these steps:\\n\\n1. Log in to your account\\n2. Navigate to \"Account Settings\" > \"Verification Center\"\\n3. Select \"Identity Verification\"\\n4. Choose your verification method:\\n   - National ID/Passport verification\\n   - Phone number verification\\n   - Address verification\\n5. Upload the required documents as specified\\n6. Submit your verification request', 'Our team typically reviews verification requests within 1-2 business days. You\\'ll receive an email notification once your verification is complete. Verified accounts receive a special badge on their profile, which increases trust with potential clients or freelancers.\\n\\n### 4. \"How can I deactivate my account temporarily?\"\\nTo temporarily deactivate your GOKAP InnoTech account:\\n\\n1. Log in to your account\\n2. Go to \"Account Settings\"\\n3. Scroll down to \"Account Status\"\\n4. Select \"Temporarily Deactivate Account\"\\n5. Choose a reason for deactivation from the dropdown menu\\n6. Specify the duration (1 week to 3 months)\\n7. Confirm your decision\\n\\nDuring deactivation:\\n- Your profile won\\'t appear in search results\\n- Ongoing projects will not be affected\\n- You\\'ll continue to receive essential emails\\n- You can reactivate anytime by logging in again\\n\\nNote that if you have active projects or pending payments, you\\'ll need to complete those before deactivation can take effect.\\n\\n### 5. \"What documents are required for verification?\"\\nGOKAP InnoTech requires the following documents for account verification:\\n\\n**For Identity Verification:**\\n- A valid government-issued photo ID (passport, national ID card, or driver\\'s license)\\n- A clear selfie holding your ID (following our guidelines)\\n\\n**For Address Verification:**\\n- A utility bill (electricity, water, internet) dated within the last 3 months\\n- A bank statement dated within the last 3 months\\n- A government-issued document showing your address\\n\\n**For Business Accounts (additional):**\\n- Business registration certificate\\n- Tax identification document\\n- Company letterhead or official document\\n\\nAll documents must be:\\n- Valid and not expired\\n- Clearly visible and legible\\n- In color (not black and white)\\n- In JPG, PNG, or PDF format (max 5MB each)\\n\\n## Client-Specific\\n\\n### 1. \"How do I post a new project?\"\\nTo post a new project on GOKAP InnoTech:', '### 3. \"Payment transaction failed\"\\nIf your payment transaction failed on GOKAP InnoTech, please follow these troubleshooting steps:\\n\\n**Common Causes and Solutions:**\\n\\n1. **Card/Payment Method Issues:**\\n   - Verify your card hasn\\'t expired\\n   - Ensure sufficient funds in your account\\n   - Check if your card allows online/international transactions\\n   - Confirm billing address matches your card information\\n   - Try a different payment method if available\\n\\n2. **Verification Problems:**\\n   - Some banks require additional verification for online transactions\\n   - Check your phone for SMS verification requests\\n   - Look for email verification from your bank\\n   - Contact your bank to authorize the transaction\\n\\n3. **Platform-Related Issues:**\\n   - Clear browser cache and cookies\\n   - Use a private/incognito browsing window\\n   - Try a different browser or device\\n   - Ensure you\\'re using a secure connection (https)\\n\\n4. **Regional Restrictions:**\\n   - Some payment methods have geographical restrictions\\n   - Check if your payment method is supported in your region\\n   - Consider using an alternative payment method\\n\\n**Next Steps:**\\n1. Wait 15-30 minutes before trying again (multiple rapid attempts may trigger security flags)\\n2. Check your bank statement to ensure you weren\\'t charged despite the error\\n3. If you see a pending transaction but received an error, wait 24 hours for automatic reversal\\n\\n**Contact Information:**\\nIf the issue persists:\\n- Email: payments@gokapinnotech.com\\n- Include your account username, transaction reference (if available), date/time of attempt, and screenshot of any error messages\\n- Do NOT share your full card details or security codes via email\\n\\nOur finance team is available Monday-Friday, 9 AM to 6 PM BT (Bhutan Time), with limited weekend support for urgent payment issues.\\n\\n### 4. \"Notification system not working\"\\nIf you\\'re experiencing issues with GOKAP InnoTech\\'s notification system, try these troubleshooting steps:'], reference_contexts=None, response=\"Identity verification on GOKAP InnoTech typically takes 1-2 business days. Once your verification request is reviewed, you'll receive an email notification regarding the completion of the verification process. Verified accounts will have a special badge on their profile, increasing trust with potential clients or freelancers. If you need further assistance, please feel free to contact our support team at support@gokapinnotech.com. They are available Monday-Friday, 9 AM to 6 PM BT (Bhutan Time), with limited weekend support for urgent issues.\", multi_responses=None, reference='Identity verification on GOKAP InnoTech typically takes 1–2 business days. Once your documents are reviewed and approved, you will receive an email notification. Verified users get a badge on their profile, which helps build trust with potential clients or freelancers.', rubrics=None)"
      ]
     },
     "execution_count": 76,
     "metadata": {},
     "output_type": "execute_result"
    }
   ],
   "source": [
    "sample5"
   ]
  },
  {
   "cell_type": "code",
   "execution_count": 77,
   "id": "c842f82d-5ebc-4439-a170-70ad2e0aa108",
   "metadata": {},
   "outputs": [],
   "source": [
    "dataset5 = EvaluationDataset(samples=[sample5])"
   ]
  },
  {
   "cell_type": "code",
   "execution_count": 78,
   "id": "f947a20e-2018-4350-a075-c9824600686f",
   "metadata": {},
   "outputs": [
    {
     "data": {
      "text/plain": [
       "EvaluationDataset(features=['user_input', 'retrieved_contexts', 'response', 'reference'], len=1)"
      ]
     },
     "execution_count": 78,
     "metadata": {},
     "output_type": "execute_result"
    }
   ],
   "source": [
    "dataset5"
   ]
  },
  {
   "cell_type": "code",
   "execution_count": 79,
   "id": "3bdc38db-6b55-4d29-aa88-d6cc23d3a4f6",
   "metadata": {},
   "outputs": [
    {
     "data": {
      "application/vnd.jupyter.widget-view+json": {
       "model_id": "222af2884c31452da26687144fdfc1e6",
       "version_major": 2,
       "version_minor": 0
      },
      "text/plain": [
       "Evaluating:   0%|          | 0/4 [00:00<?, ?it/s]"
      ]
     },
     "metadata": {},
     "output_type": "display_data"
    }
   ],
   "source": [
    "result5 = evaluate(\n",
    "    dataset=dataset5, \n",
    "    llm=groq_llm,\n",
    "    embeddings=cohere_embeddings\n",
    ")"
   ]
  },
  {
   "cell_type": "code",
   "execution_count": 80,
   "id": "a29a2419-d291-4d7b-bd16-58c88d59901c",
   "metadata": {},
   "outputs": [
    {
     "data": {
      "text/plain": [
       "{'answer_relevancy': 0.7532, 'context_precision': 0.5000, 'faithfulness': 1.0000, 'context_recall': 1.0000}"
      ]
     },
     "execution_count": 80,
     "metadata": {},
     "output_type": "execute_result"
    }
   ],
   "source": [
    "result5"
   ]
  },
  {
   "cell_type": "code",
   "execution_count": 81,
   "id": "3754358b-c8fe-4c22-9d57-1d6e320c3dd0",
   "metadata": {},
   "outputs": [],
   "source": [
    "user_input = \"What is GOKAP InnoTech and what does the company do?\"\n",
    "sample6 = SingleTurnSample(\n",
    "    user_input=user_input,\n",
    "    retrieved_contexts=rag_pipeline.get_retrieval_content(user_input),\n",
    "    response=chain.invoke(user_input),\n",
    "    reference=\"GOKAP InnoTech (GIT) is a Bhutan-based technology startup founded in 2020. It operates a freelance marketplace platform that connects clients and freelancers for project-based work. With a mission of 'Tech Excellence, Customer Happiness,' GOKAP has completed over 100 projects and served more than 100 happy customers. The platform is headquartered in Thimphu, Bhutan, and is known for promoting seamless collaboration through technology.\"\n",
    ")"
   ]
  },
  {
   "cell_type": "code",
   "execution_count": 82,
   "id": "a5c109a4-c6e5-4ec5-a207-238c6ae97b35",
   "metadata": {
    "collapsed": true,
    "jupyter": {
     "outputs_hidden": true
    }
   },
   "outputs": [
    {
     "data": {
      "text/plain": [
       "SingleTurnSample(user_input='What is GOKAP InnoTech and what does the company do?', retrieved_contexts=['1. Company Overview\\nGOKAP Innotech is a Bhutan-based startup founded to bridge the gap between freelancers and clients through an innovative platform that facilitates seamless collaboration. The company’s mission is \"Tech Excellence, Customer Happiness,\" focusing on transforming lives through technology innovation 4. With over 100+ happy customers and 100+ completed projects, GOKAP has established itself as a trusted name in the tech industry.\\n\\nFull Name: GOKAP InnoTech (commonly referred to as GIT)\\nFounded: 2020\\nIndustry: Technology, Freelance Marketplace\\nHeadquarters: Thimphu, Bhutan\\nContact Information:\\nPhone: +97517570958\\nEmail: GIT@gokapinnotech.com\\nWebsite: www.gokapinnotech.com\\n\\n2. Platform Description\\nGOKAP InnoTech operates a digital marketplace connecting freelancers with clients. The platform facilitates project-based work where clients can post projects and freelancers can apply to complete these projects for compensation.\\nUser Types\\n\\nClients:\\n\\nBusinesses or individuals seeking professional services\\nCan post projects, set budgets, and hire freelancers\\nReview freelancer profiles, portfolios, and ratings before hiring\\nRelease payment upon satisfactory project completion\\n\\n\\nFreelancers:\\n\\nProfessionals offering services across various categories\\nCreate profiles highlighting skills, experience, and portfolio\\nBrowse and apply for available projects\\nComplete work and receive payment through the platform\\n\\n\\n\\n3. Key Features\\nAccount Creation & Management\\n\\nSimple registration process requiring email verification\\nProfile customization options\\nDocument verification for identity confirmation\\nAccount tiers: Basic, Premium, and Enterprise\\n\\nProject Management\\n\\nProject posting interface for clients\\nProject discovery tool for freelancers\\nMilestone tracking system\\nDeadline management features\\nFile sharing capabilities\\n\\nPayment System', '# Core Values\\nAt GOKAP Innotech, values guide every decision and interaction:\\n\\nInnovative Solutions: Pioneering cutting-edge technologies tailored to client needs.\\nTransparent Communication: Clear and open dialogue ensures trust and satisfaction.\\nCollaborative Teamwork: A culture of teamwork fosters creativity and efficiency.\\nThese principles are reflected in their service offerings, ensuring exceptional results for both freelancers and clients.\\n\\n# Mission & Vision\\nMission: To provide top-notch services that foster learning opportunities for individuals and businesses while driving technological innovation.\\nVision: To create a lasting impact on the global technology sector by offering innovative solutions, facilitating education, and expanding influence through larger institutions.\\n\\n\\n\\n# Success Stories\\nHere are testimonials from satisfied users highlighting the platform\\'s effectiveness:\\n\\nVince Alce (Freelancer): \"Highly recommend GOKAP Innotech for their comprehensive services. I\\'m incredibly grateful for this platform and the opportunities it has provided me as a freelancer.\"\\n\\nElisha Eboh (Founder and CEO of MOI): \"GOKAP Innotech\\'s platform for connecting clients with freelancers is seamless and efficient. They helped us find the perfect talent for our project.\"\\n\\nJay Son Lozada (Software Developer): \"I\\'m impressed by GOKAP Innotech\\'s UI design expertise. They transformed our ideas into visually stunning and user-friendly interfaces.\"\\n\\n\\n# Articles & Resources\\nStay updated with the latest trends and insights from GOKAP Innotech:\\n\\n\"Revolutionizing Freelancing with GIT\" by Choki Dorji (Apr 16) – Explores how GOKAP is reshaping the freelancing landscape in Bhutan.\\n\\n\"GIT Driving Technological Advancements in Bhutan\" by Choki Dorji (Apr 16) – Highlights the company’s role in advancing technology adoption within the region.', \"GOKAP InnoTech - Detailed Team Member Profiles\\nYared Tekle\\nPosition: Lead UI/UX Designer & Frontend Developer\\nJoined: 2020 (Co-founder)\\nEducation: Bachelor's in Computer Science, Royal University of Bhutan; Certification in UI/UX Design from Interaction Design Foundation\\nBackground:\\nYared Tekle is one of the original co-founders of GOKAP InnoTech, bringing over 8 years of experience in user interface design and frontend development. Prior to founding GIT, Yared worked at several tech startups in Thimphu and briefly in a Singaporean digital agency, where he honed his skills in creating intuitive, accessible, and visually appealing digital experiences.\\nExpertise:\\n\\nUser experience research and testing\\nFrontend architecture using React.js and Vue.js\\nResponsive design implementation\\nDesign systems development\\nInteractive prototyping\\nAccessibility compliance\"], reference_contexts=None, response=\"GOKAP InnoTech (also known as GIT) is a Bhutan-based startup founded in 2020 with a mission to bridge the gap between freelancers and clients through an innovative platform. The company's core values include innovative solutions, transparent communication, and collaborative teamwork. GOKAP InnoTech operates a digital marketplace that connects freelancers with clients, enabling project-based work. Clients can post projects, set budgets, and hire freelancers with verified skills, experience, and portfolios. Freelancers can create profiles, browse available projects, and receive payments through the platform.\\n\\nThe platform offers key features like account creation and management, project management, and a secure payment system. GOKAP InnoTech's services foster learning opportunities for individuals and businesses while driving technological innovation. The company has established itself as a trusted name in the tech industry, with over 100+ happy customers and 100+ completed projects.\\n\\nFor more information about GOKAP InnoTech, you can visit their website at www.gokapinnotech.com, email them at GIT@gokapinnotech.com, or call them at +97517570958.\", multi_responses=None, reference=\"GOKAP InnoTech (GIT) is a Bhutan-based technology startup founded in 2020. It operates a freelance marketplace platform that connects clients and freelancers for project-based work. With a mission of 'Tech Excellence, Customer Happiness,' GOKAP has completed over 100 projects and served more than 100 happy customers. The platform is headquartered in Thimphu, Bhutan, and is known for promoting seamless collaboration through technology.\", rubrics=None)"
      ]
     },
     "execution_count": 82,
     "metadata": {},
     "output_type": "execute_result"
    }
   ],
   "source": [
    "sample6"
   ]
  },
  {
   "cell_type": "code",
   "execution_count": 85,
   "id": "02c33d59-ebac-434f-9e2f-5c32bc32d42a",
   "metadata": {},
   "outputs": [],
   "source": [
    "dataset6 = EvaluationDataset(samples=[sample6])"
   ]
  },
  {
   "cell_type": "code",
   "execution_count": 86,
   "id": "c7eaa54c-a50d-4bad-a362-d8be68ef6be5",
   "metadata": {},
   "outputs": [
    {
     "data": {
      "text/plain": [
       "EvaluationDataset(features=['user_input', 'retrieved_contexts', 'response', 'reference'], len=1)"
      ]
     },
     "execution_count": 86,
     "metadata": {},
     "output_type": "execute_result"
    }
   ],
   "source": [
    "dataset6"
   ]
  },
  {
   "cell_type": "code",
   "execution_count": 87,
   "id": "6a9e371e-0d43-4d99-949c-6c1c68f6f277",
   "metadata": {},
   "outputs": [
    {
     "data": {
      "application/vnd.jupyter.widget-view+json": {
       "model_id": "3d18b71a3dbd4abd9ea5672c96408b44",
       "version_major": 2,
       "version_minor": 0
      },
      "text/plain": [
       "Evaluating:   0%|          | 0/4 [00:00<?, ?it/s]"
      ]
     },
     "metadata": {},
     "output_type": "display_data"
    }
   ],
   "source": [
    "result6 = evaluate(\n",
    "    dataset=dataset6, \n",
    "    llm=groq_llm,\n",
    "    embeddings=cohere_embeddings\n",
    ")"
   ]
  },
  {
   "cell_type": "code",
   "execution_count": 88,
   "id": "039b8807-61da-4552-9a43-f09b50620cf1",
   "metadata": {},
   "outputs": [
    {
     "data": {
      "text/plain": [
       "{'answer_relevancy': 0.6380, 'context_precision': 1.0000, 'faithfulness': 1.0000, 'context_recall': 1.0000}"
      ]
     },
     "execution_count": 88,
     "metadata": {},
     "output_type": "execute_result"
    }
   ],
   "source": [
    "result6"
   ]
  },
  {
   "cell_type": "code",
   "execution_count": 89,
   "id": "93f096c5-633e-41cc-a86f-f87ebae1a763",
   "metadata": {},
   "outputs": [],
   "source": [
    "user_input = \"What types of services does GOKAP InnoTech offer?\"\n",
    "sample7 = SingleTurnSample(\n",
    "    user_input=user_input,\n",
    "    retrieved_contexts=rag_pipeline.get_retrieval_content(user_input),\n",
    "    response=chain.invoke(user_input),\n",
    "    reference=\"GOKAP InnoTech offers a wide range of freelance services across various categories including Web Development (Frontend, Backend, Full-Stack, E-commerce, CMS), Design (UI/UX, Graphic, Logo, Branding, Illustration), Content Creation (Copywriting, Editing, Translation, Proofreading), Digital Marketing (SEO, Social Media, Email Marketing, PPC), and Business Support (Virtual Assistance, Customer Support, Data Entry, Research).\"\n",
    ")"
   ]
  },
  {
   "cell_type": "code",
   "execution_count": 90,
   "id": "594c828d-bbe7-4b40-bd3f-773da6c16af2",
   "metadata": {
    "collapsed": true,
    "jupyter": {
     "outputs_hidden": true
    }
   },
   "outputs": [
    {
     "data": {
      "text/plain": [
       "SingleTurnSample(user_input='What types of services does GOKAP InnoTech offer?', retrieved_contexts=['1. Company Overview\\nGOKAP Innotech is a Bhutan-based startup founded to bridge the gap between freelancers and clients through an innovative platform that facilitates seamless collaboration. The company’s mission is \"Tech Excellence, Customer Happiness,\" focusing on transforming lives through technology innovation 4. With over 100+ happy customers and 100+ completed projects, GOKAP has established itself as a trusted name in the tech industry.\\n\\nFull Name: GOKAP InnoTech (commonly referred to as GIT)\\nFounded: 2020\\nIndustry: Technology, Freelance Marketplace\\nHeadquarters: Thimphu, Bhutan\\nContact Information:\\nPhone: +97517570958\\nEmail: GIT@gokapinnotech.com\\nWebsite: www.gokapinnotech.com\\n\\n2. Platform Description\\nGOKAP InnoTech operates a digital marketplace connecting freelancers with clients. The platform facilitates project-based work where clients can post projects and freelancers can apply to complete these projects for compensation.\\nUser Types\\n\\nClients:\\n\\nBusinesses or individuals seeking professional services\\nCan post projects, set budgets, and hire freelancers\\nReview freelancer profiles, portfolios, and ratings before hiring\\nRelease payment upon satisfactory project completion\\n\\n\\nFreelancers:\\n\\nProfessionals offering services across various categories\\nCreate profiles highlighting skills, experience, and portfolio\\nBrowse and apply for available projects\\nComplete work and receive payment through the platform\\n\\n\\n\\n3. Key Features\\nAccount Creation & Management\\n\\nSimple registration process requiring email verification\\nProfile customization options\\nDocument verification for identity confirmation\\nAccount tiers: Basic, Premium, and Enterprise\\n\\nProject Management\\n\\nProject posting interface for clients\\nProject discovery tool for freelancers\\nMilestone tracking system\\nDeadline management features\\nFile sharing capabilities\\n\\nPayment System', '# Core Values\\nAt GOKAP Innotech, values guide every decision and interaction:\\n\\nInnovative Solutions: Pioneering cutting-edge technologies tailored to client needs.\\nTransparent Communication: Clear and open dialogue ensures trust and satisfaction.\\nCollaborative Teamwork: A culture of teamwork fosters creativity and efficiency.\\nThese principles are reflected in their service offerings, ensuring exceptional results for both freelancers and clients.\\n\\n# Mission & Vision\\nMission: To provide top-notch services that foster learning opportunities for individuals and businesses while driving technological innovation.\\nVision: To create a lasting impact on the global technology sector by offering innovative solutions, facilitating education, and expanding influence through larger institutions.\\n\\n\\n\\n# Success Stories\\nHere are testimonials from satisfied users highlighting the platform\\'s effectiveness:\\n\\nVince Alce (Freelancer): \"Highly recommend GOKAP Innotech for their comprehensive services. I\\'m incredibly grateful for this platform and the opportunities it has provided me as a freelancer.\"\\n\\nElisha Eboh (Founder and CEO of MOI): \"GOKAP Innotech\\'s platform for connecting clients with freelancers is seamless and efficient. They helped us find the perfect talent for our project.\"\\n\\nJay Son Lozada (Software Developer): \"I\\'m impressed by GOKAP Innotech\\'s UI design expertise. They transformed our ideas into visually stunning and user-friendly interfaces.\"\\n\\n\\n# Articles & Resources\\nStay updated with the latest trends and insights from GOKAP Innotech:\\n\\n\"Revolutionizing Freelancing with GIT\" by Choki Dorji (Apr 16) – Explores how GOKAP is reshaping the freelancing landscape in Bhutan.\\n\\n\"GIT Driving Technological Advancements in Bhutan\" by Choki Dorji (Apr 16) – Highlights the company’s role in advancing technology adoption within the region.', '4. **Partial Payment Option:** For partially completed work, you can:\\n   - Propose a partial payment that reflects the usable portion\\n   - Negotiate this directly or through mediation\\n\\n5. **Refund Policy:** In cases where deliverables completely fail to meet agreed requirements:\\n   - Full refunds may be issued for fixed-price projects\\n   - Hourly projects may be eligible for partial refunds based on review\\n\\nGOKAP\\'s goal is to ensure fair treatment for both clients and freelancers while maintaining platform integrity.\\n\\n### 5. \"Can I request revisions to completed work?\"\\nYes, you can request revisions to completed work on GOKAP InnoTech:\\n\\n1. Navigate to \"My Projects\" and select the relevant project\\n2. Go to the \"Submissions\" tab and find the submission you want revised\\n3. Click on \"Request Revisions\"\\n4. In the revision request form:\\n   - Be specific about what needs to be changed\\n   - Reference the original requirements as needed\\n   - Attach examples or marked-up files if helpful\\n   - Set a reasonable deadline for the revisions\\n5. Submit the revision request\\n\\nImportant points about revisions:\\n- The number of revision rounds should align with what was agreed upon in the initial contract\\n- Additional revisions beyond the agreed amount may incur extra charges\\n- Major changes that significantly alter the original scope may require a new milestone or contract adjustment\\n- All revision requests and communications are logged for transparency\\n- The revision timeline doesn\\'t affect the original project deadline unless manually extended\\n\\n### 6. \"How do I extend a project deadline?\"\\nTo extend a project deadline on GOKAP InnoTech:'], reference_contexts=None, response='GOKAP InnoTech offers a digital marketplace that connects freelancers with clients, facilitating project-based work. The platform is designed for two types of users:\\n\\n1. Clients: These are businesses or individuals seeking professional services. They can post projects, set budgets, and hire freelancers after reviewing their profiles, portfolios, and ratings.\\n\\n2. Freelancers: These are professionals offering services across various categories. They can create profiles, highlighting their skills, experience, and portfolio. They can browse and apply for available projects, complete the work, and receive payment through the platform.\\n\\nThe platform also offers key features such as account creation and management, project management, and a secure payment system. GOKAP InnoTech is guided by core values that prioritize innovative solutions, transparent communication, and collaborative teamwork.\\n\\nIn addition to the platform services, GOKAP InnoTech provides resources and articles to keep users updated on the latest trends and insights in the technology sector. They also have a partial payment option and a refund policy in place to ensure fair treatment for both clients and freelancers.\\n\\nFor completed work, revisions can be requested through a specific process, and project deadlines can be extended following certain guidelines.', multi_responses=None, reference='GOKAP InnoTech offers a wide range of freelance services across various categories including Web Development (Frontend, Backend, Full-Stack, E-commerce, CMS), Design (UI/UX, Graphic, Logo, Branding, Illustration), Content Creation (Copywriting, Editing, Translation, Proofreading), Digital Marketing (SEO, Social Media, Email Marketing, PPC), and Business Support (Virtual Assistance, Customer Support, Data Entry, Research).', rubrics=None)"
      ]
     },
     "execution_count": 90,
     "metadata": {},
     "output_type": "execute_result"
    }
   ],
   "source": [
    "sample7"
   ]
  },
  {
   "cell_type": "code",
   "execution_count": 91,
   "id": "b7f14e05-2c21-4589-a0f6-c4a49e563f10",
   "metadata": {},
   "outputs": [],
   "source": [
    "dataset7 = EvaluationDataset(samples=[sample7])"
   ]
  },
  {
   "cell_type": "code",
   "execution_count": 92,
   "id": "7b918886-c5cc-4322-8432-eb7a5c403486",
   "metadata": {},
   "outputs": [
    {
     "data": {
      "text/plain": [
       "EvaluationDataset(features=['user_input', 'retrieved_contexts', 'response', 'reference'], len=1)"
      ]
     },
     "execution_count": 92,
     "metadata": {},
     "output_type": "execute_result"
    }
   ],
   "source": [
    "dataset7"
   ]
  },
  {
   "cell_type": "code",
   "execution_count": 93,
   "id": "e1c2daf2-d625-4e1a-a5b4-c28fbc4a8840",
   "metadata": {},
   "outputs": [
    {
     "data": {
      "application/vnd.jupyter.widget-view+json": {
       "model_id": "6046d97aed6a4f1c9ee832676d309b55",
       "version_major": 2,
       "version_minor": 0
      },
      "text/plain": [
       "Evaluating:   0%|          | 0/4 [00:00<?, ?it/s]"
      ]
     },
     "metadata": {},
     "output_type": "display_data"
    }
   ],
   "source": [
    "result7 = evaluate(\n",
    "    dataset=dataset7, \n",
    "    llm=groq_llm,\n",
    "    embeddings=cohere_embeddings\n",
    ")"
   ]
  },
  {
   "cell_type": "code",
   "execution_count": 94,
   "id": "494cc868-a8e1-4f1c-bbc0-917a77ab9003",
   "metadata": {},
   "outputs": [
    {
     "data": {
      "text/plain": [
       "{'answer_relevancy': 0.4848, 'context_precision': 0.0000, 'faithfulness': 1.0000, 'context_recall': 1.0000}"
      ]
     },
     "execution_count": 94,
     "metadata": {},
     "output_type": "execute_result"
    }
   ],
   "source": [
    "result7"
   ]
  },
  {
   "cell_type": "code",
   "execution_count": 95,
   "id": "44f5624f-083f-4ae1-a4fb-62c13cd59f0d",
   "metadata": {},
   "outputs": [],
   "source": [
    "user_input = \"What is the mission and vision of GOKAP InnoTech?\"\n",
    "sample8 = SingleTurnSample(\n",
    "    user_input=user_input,\n",
    "    retrieved_contexts=rag_pipeline.get_retrieval_content(user_input),\n",
    "    response=chain.invoke(user_input),\n",
    "    reference=\"GOKAP InnoTech’s mission is to provide top-notch services that foster learning opportunities for individuals and businesses while driving technological innovation. The company’s vision is to create a lasting impact on the global technology sector by offering innovative solutions, facilitating education, and expanding its influence through larger institutions.\"\n",
    ")"
   ]
  },
  {
   "cell_type": "code",
   "execution_count": 96,
   "id": "6d60317a-1bed-466c-9814-84a3f0562434",
   "metadata": {
    "collapsed": true,
    "jupyter": {
     "outputs_hidden": true
    }
   },
   "outputs": [
    {
     "data": {
      "text/plain": [
       "SingleTurnSample(user_input='What is the mission and vision of GOKAP InnoTech?', retrieved_contexts=['1. Company Overview\\nGOKAP Innotech is a Bhutan-based startup founded to bridge the gap between freelancers and clients through an innovative platform that facilitates seamless collaboration. The company’s mission is \"Tech Excellence, Customer Happiness,\" focusing on transforming lives through technology innovation 4. With over 100+ happy customers and 100+ completed projects, GOKAP has established itself as a trusted name in the tech industry.\\n\\nFull Name: GOKAP InnoTech (commonly referred to as GIT)\\nFounded: 2020\\nIndustry: Technology, Freelance Marketplace\\nHeadquarters: Thimphu, Bhutan\\nContact Information:\\nPhone: +97517570958\\nEmail: GIT@gokapinnotech.com\\nWebsite: www.gokapinnotech.com\\n\\n2. Platform Description\\nGOKAP InnoTech operates a digital marketplace connecting freelancers with clients. The platform facilitates project-based work where clients can post projects and freelancers can apply to complete these projects for compensation.\\nUser Types\\n\\nClients:\\n\\nBusinesses or individuals seeking professional services\\nCan post projects, set budgets, and hire freelancers\\nReview freelancer profiles, portfolios, and ratings before hiring\\nRelease payment upon satisfactory project completion\\n\\n\\nFreelancers:\\n\\nProfessionals offering services across various categories\\nCreate profiles highlighting skills, experience, and portfolio\\nBrowse and apply for available projects\\nComplete work and receive payment through the platform\\n\\n\\n\\n3. Key Features\\nAccount Creation & Management\\n\\nSimple registration process requiring email verification\\nProfile customization options\\nDocument verification for identity confirmation\\nAccount tiers: Basic, Premium, and Enterprise\\n\\nProject Management\\n\\nProject posting interface for clients\\nProject discovery tool for freelancers\\nMilestone tracking system\\nDeadline management features\\nFile sharing capabilities\\n\\nPayment System', '# Core Values\\nAt GOKAP Innotech, values guide every decision and interaction:\\n\\nInnovative Solutions: Pioneering cutting-edge technologies tailored to client needs.\\nTransparent Communication: Clear and open dialogue ensures trust and satisfaction.\\nCollaborative Teamwork: A culture of teamwork fosters creativity and efficiency.\\nThese principles are reflected in their service offerings, ensuring exceptional results for both freelancers and clients.\\n\\n# Mission & Vision\\nMission: To provide top-notch services that foster learning opportunities for individuals and businesses while driving technological innovation.\\nVision: To create a lasting impact on the global technology sector by offering innovative solutions, facilitating education, and expanding influence through larger institutions.\\n\\n\\n\\n# Success Stories\\nHere are testimonials from satisfied users highlighting the platform\\'s effectiveness:\\n\\nVince Alce (Freelancer): \"Highly recommend GOKAP Innotech for their comprehensive services. I\\'m incredibly grateful for this platform and the opportunities it has provided me as a freelancer.\"\\n\\nElisha Eboh (Founder and CEO of MOI): \"GOKAP Innotech\\'s platform for connecting clients with freelancers is seamless and efficient. They helped us find the perfect talent for our project.\"\\n\\nJay Son Lozada (Software Developer): \"I\\'m impressed by GOKAP Innotech\\'s UI design expertise. They transformed our ideas into visually stunning and user-friendly interfaces.\"\\n\\n\\n# Articles & Resources\\nStay updated with the latest trends and insights from GOKAP Innotech:\\n\\n\"Revolutionizing Freelancing with GIT\" by Choki Dorji (Apr 16) – Explores how GOKAP is reshaping the freelancing landscape in Bhutan.\\n\\n\"GIT Driving Technological Advancements in Bhutan\" by Choki Dorji (Apr 16) – Highlights the company’s role in advancing technology adoption within the region.', \"GOKAP InnoTech - Detailed Team Member Profiles\\nYared Tekle\\nPosition: Lead UI/UX Designer & Frontend Developer\\nJoined: 2020 (Co-founder)\\nEducation: Bachelor's in Computer Science, Royal University of Bhutan; Certification in UI/UX Design from Interaction Design Foundation\\nBackground:\\nYared Tekle is one of the original co-founders of GOKAP InnoTech, bringing over 8 years of experience in user interface design and frontend development. Prior to founding GIT, Yared worked at several tech startups in Thimphu and briefly in a Singaporean digital agency, where he honed his skills in creating intuitive, accessible, and visually appealing digital experiences.\\nExpertise:\\n\\nUser experience research and testing\\nFrontend architecture using React.js and Vue.js\\nResponsive design implementation\\nDesign systems development\\nInteractive prototyping\\nAccessibility compliance\"], reference_contexts=None, response='The mission of GOKAP InnoTech is \"Tech Excellence, Customer Happiness,\" with a focus on transforming lives through technology innovation. The company\\'s vision is to create a lasting impact on the global technology sector by offering innovative solutions, facilitating education, and expanding influence through larger institutions. GOKAP InnoTech is dedicated to providing top-notch services that foster learning opportunities for individuals and businesses while driving technological innovation.', multi_responses=None, reference='GOKAP InnoTech’s mission is to provide top-notch services that foster learning opportunities for individuals and businesses while driving technological innovation. The company’s vision is to create a lasting impact on the global technology sector by offering innovative solutions, facilitating education, and expanding its influence through larger institutions.', rubrics=None)"
      ]
     },
     "execution_count": 96,
     "metadata": {},
     "output_type": "execute_result"
    }
   ],
   "source": [
    "sample8"
   ]
  },
  {
   "cell_type": "code",
   "execution_count": 97,
   "id": "0f961c7a-fab0-4fb9-8238-0fd49c2c19cb",
   "metadata": {},
   "outputs": [],
   "source": [
    "dataset8 = EvaluationDataset(samples=[sample8])"
   ]
  },
  {
   "cell_type": "code",
   "execution_count": 98,
   "id": "ad435eee-dd9a-479f-a384-534539392bbf",
   "metadata": {},
   "outputs": [
    {
     "data": {
      "text/plain": [
       "EvaluationDataset(features=['user_input', 'retrieved_contexts', 'response', 'reference'], len=1)"
      ]
     },
     "execution_count": 98,
     "metadata": {},
     "output_type": "execute_result"
    }
   ],
   "source": [
    "dataset8"
   ]
  },
  {
   "cell_type": "code",
   "execution_count": 99,
   "id": "60751fbb-27ad-477b-a8d4-edaead613ce8",
   "metadata": {},
   "outputs": [
    {
     "data": {
      "application/vnd.jupyter.widget-view+json": {
       "model_id": "10fa0b44c10340cb9e79e551c3489747",
       "version_major": 2,
       "version_minor": 0
      },
      "text/plain": [
       "Evaluating:   0%|          | 0/4 [00:00<?, ?it/s]"
      ]
     },
     "metadata": {},
     "output_type": "display_data"
    }
   ],
   "source": [
    "result8 = evaluate(\n",
    "    dataset=dataset8, \n",
    "    llm=groq_llm,\n",
    "    embeddings=cohere_embeddings\n",
    ")"
   ]
  },
  {
   "cell_type": "code",
   "execution_count": 100,
   "id": "22c4079e-0cb5-414c-87d9-e6343a17ae66",
   "metadata": {},
   "outputs": [
    {
     "data": {
      "text/plain": [
       "{'answer_relevancy': 0.7522, 'context_precision': 1.0000, 'faithfulness': 0.8000, 'context_recall': 1.0000}"
      ]
     },
     "execution_count": 100,
     "metadata": {},
     "output_type": "execute_result"
    }
   ],
   "source": [
    "result8"
   ]
  },
  {
   "cell_type": "code",
   "execution_count": 101,
   "id": "261e7fc0-1097-4fb4-8251-c4ef2797ca75",
   "metadata": {},
   "outputs": [],
   "source": [
    "user_input = \"Are there any success stories or testimonials from GOKAP users?\"\n",
    "sample9 = SingleTurnSample(\n",
    "    user_input=user_input,\n",
    "    retrieved_contexts=rag_pipeline.get_retrieval_content(user_input),\n",
    "    response=chain.invoke(user_input),\n",
    "    reference=\"Yes, GOKAP InnoTech has received several positive testimonials from users. Vince Alce, a freelancer, praised the platform for the opportunities it provided. Elisha Eboh, CEO of MOI, highlighted the platform’s efficiency in connecting clients with the right talent. Jay Son Lozada, a software developer, commended GOKAP’s UI design expertise in transforming ideas into user-friendly interfaces.\"\n",
    ")"
   ]
  },
  {
   "cell_type": "code",
   "execution_count": 103,
   "id": "ad0d14c8-4a20-4411-a3db-62822d9e7ed4",
   "metadata": {
    "collapsed": true,
    "jupyter": {
     "outputs_hidden": true
    }
   },
   "outputs": [
    {
     "data": {
      "text/plain": [
       "SingleTurnSample(user_input='Are there any success stories or testimonials from GOKAP users?', retrieved_contexts=['1. Company Overview\\nGOKAP Innotech is a Bhutan-based startup founded to bridge the gap between freelancers and clients through an innovative platform that facilitates seamless collaboration. The company’s mission is \"Tech Excellence, Customer Happiness,\" focusing on transforming lives through technology innovation 4. With over 100+ happy customers and 100+ completed projects, GOKAP has established itself as a trusted name in the tech industry.\\n\\nFull Name: GOKAP InnoTech (commonly referred to as GIT)\\nFounded: 2020\\nIndustry: Technology, Freelance Marketplace\\nHeadquarters: Thimphu, Bhutan\\nContact Information:\\nPhone: +97517570958\\nEmail: GIT@gokapinnotech.com\\nWebsite: www.gokapinnotech.com\\n\\n2. Platform Description\\nGOKAP InnoTech operates a digital marketplace connecting freelancers with clients. The platform facilitates project-based work where clients can post projects and freelancers can apply to complete these projects for compensation.\\nUser Types\\n\\nClients:\\n\\nBusinesses or individuals seeking professional services\\nCan post projects, set budgets, and hire freelancers\\nReview freelancer profiles, portfolios, and ratings before hiring\\nRelease payment upon satisfactory project completion\\n\\n\\nFreelancers:\\n\\nProfessionals offering services across various categories\\nCreate profiles highlighting skills, experience, and portfolio\\nBrowse and apply for available projects\\nComplete work and receive payment through the platform\\n\\n\\n\\n3. Key Features\\nAccount Creation & Management\\n\\nSimple registration process requiring email verification\\nProfile customization options\\nDocument verification for identity confirmation\\nAccount tiers: Basic, Premium, and Enterprise\\n\\nProject Management\\n\\nProject posting interface for clients\\nProject discovery tool for freelancers\\nMilestone tracking system\\nDeadline management features\\nFile sharing capabilities\\n\\nPayment System', 'Contributions to GIT:\\nRupesh architected GOKAP\\'s entire backend infrastructure, implementing security best practices and ensuring platform scalability. He developed the core payment processing system including the escrow functionality that has processed over 100 projects to date. Rupesh leads the technical development team and is currently spearheading the implementation of the AI-powered skill matching algorithm scheduled for Q1 2025.\\nQuote:\\n\"Our platform for connecting clients with freelancers is a game-changer because we\\'ve built it on a foundation of security, reliability, and scalability. Technology should empower human connections, not complicate them.\"\\nSonam Wangchuk\\nPosition: Social Media Manager & Community Engagement Specialist\\nJoined: 2021\\nEducation: Bachelor\\'s in Marketing, Royal Thimphu College; Digital Marketing Certification from Google\\nBackground:\\nSonam joined GOKAP after two years at a prominent Bhutanese digital marketing agency. With a keen understanding of social media dynamics and content strategy, Sonam has helped build GOKAP\\'s online presence from the ground up. Her approach combines data-driven campaign management with authentic community building.\\nExpertise:\\n\\nSocial media strategy development\\nCommunity management\\nContent calendar planning\\nEngagement analytics\\nUser acquisition campaigns\\nInfluencer partnerships\\nBrand voice development', 'Agile product development\\nCustomer journey mapping\\nFeature prioritization\\nUser story creation\\nA/B testing methodology\\nProduct analytics\\nClient relationship management\\nCustomer onboarding processes\\n\\nContributions to GIT:\\nSince joining GOKAP, Sudip has restructured the product development process, implementing agile methodologies that have reduced feature deployment time by 40%. He created the platform\\'s customer success program, which has improved client retention by 25%. Sudip leads the product roadmap planning and serves as the primary liaison between the development team and user community. He is currently leading the development of the new Team Collaboration Tools feature set.\\nQuote:\\n\"At GOKAP, we measure success not by the features we ship, but by the problems we solve for our users. Every product decision begins with understanding our users\\' challenges and ends with measuring the real-world impact of our solutions.\"\\nAbdul Rahman\\nPosition: Chief Financial Officer & Operations Director\\nJoined: 2021\\nEducation: Master\\'s in Finance from London School of Economics; Chartered Accountant\\nBackground:\\nAbdul brings international financial expertise to GOKAP with over 12 years of experience in financial management and operations. Before joining GIT, he worked in investment banking in Dubai and later as a financial consultant for tech startups across South Asia. His experience in scaling operations for growing companies has been invaluable to GOKAP\\'s expansion.\\nExpertise:\\n\\nFinancial strategy and planning\\nInvestment management\\nOperational efficiency\\nRisk assessment\\nCompliance management\\nInvestor relations\\nBudget allocation\\nInternational payment systems'], reference_contexts=None, response=\"Yes, there are many success stories and positive testimonials from GOKAP Innotech (GIT) users. The company has served over 100+ customers and completed more than 100 projects, establishing itself as a trusted name in the tech industry. GIT has facilitated collaboration between clients and freelancers, providing a platform that has transformed lives through technology innovation.\\n\\nOne of the key contributors to GIT is Rupesh, who architected the company's entire backend infrastructure and developed the core payment processing system, including the escrow functionality. This system has processed over 100 projects to date, ensuring secure and reliable transactions for all users.\\n\\nMoreover, Sonam Wangchuk, the Social Media Manager & Community Engagement Specialist, has helped build GOKAP's online presence from scratch. By combining data-driven campaign management with authentic community building, she has played a crucial role in fostering a strong and engaged user community.\\n\\nLastly, the contributions of Sudip, Chief Financial Officer & Operations Director, have been instrumental in shaping GOKAP's product development and customer success programs. By prioritizing user needs and challenges, GIT has been able to measure success by the problems it solves for its users, ultimately improving client retention and deploying features more efficiently.\\n\\nYou can find more information, success stories, and testimonials on the GOKAP Innotech website (www.gokapinnotech.com) or by getting in touch with their support team via phone (+97517570958) or email (GIT@gokapinnotech.com).\", multi_responses=None, reference='Yes, GOKAP InnoTech has received several positive testimonials from users. Vince Alce, a freelancer, praised the platform for the opportunities it provided. Elisha Eboh, CEO of MOI, highlighted the platform’s efficiency in connecting clients with the right talent. Jay Son Lozada, a software developer, commended GOKAP’s UI design expertise in transforming ideas into user-friendly interfaces.', rubrics=None)"
      ]
     },
     "execution_count": 103,
     "metadata": {},
     "output_type": "execute_result"
    }
   ],
   "source": [
    "sample9"
   ]
  },
  {
   "cell_type": "code",
   "execution_count": 105,
   "id": "ffa40175-3e23-4c5b-a5d1-55cf2d537762",
   "metadata": {},
   "outputs": [],
   "source": [
    "dataset9 = EvaluationDataset(samples=[sample9])"
   ]
  },
  {
   "cell_type": "code",
   "execution_count": 106,
   "id": "67c97e18-75b4-4ca0-bc6a-e21749a153ae",
   "metadata": {},
   "outputs": [
    {
     "data": {
      "application/vnd.jupyter.widget-view+json": {
       "model_id": "eb96e86c2aae4a07ad605fa638812820",
       "version_major": 2,
       "version_minor": 0
      },
      "text/plain": [
       "Evaluating:   0%|          | 0/4 [00:00<?, ?it/s]"
      ]
     },
     "metadata": {},
     "output_type": "display_data"
    }
   ],
   "source": [
    "result9 = evaluate(\n",
    "    dataset=dataset9, \n",
    "    llm=groq_llm,\n",
    "    embeddings=cohere_embeddings\n",
    ")"
   ]
  },
  {
   "cell_type": "code",
   "execution_count": 107,
   "id": "f0ee00bf-7123-491f-b08e-08e624993200",
   "metadata": {},
   "outputs": [
    {
     "data": {
      "text/plain": [
       "{'answer_relevancy': 0.6321, 'context_precision': 1.0000, 'faithfulness': 0.8571, 'context_recall': 0.2500}"
      ]
     },
     "execution_count": 107,
     "metadata": {},
     "output_type": "execute_result"
    }
   ],
   "source": [
    "result9"
   ]
  },
  {
   "cell_type": "code",
   "execution_count": 108,
   "id": "9542bca1-4b0e-4445-b5f0-d0c9619cf1be",
   "metadata": {},
   "outputs": [],
   "source": [
    "user_input = \"What should I do if I'm not satisfied with the freelancer's work on GOKAP InnoTech?\"\n",
    "sample10 = SingleTurnSample(\n",
    "    user_input=user_input,\n",
    "    retrieved_contexts=rag_pipeline.get_retrieval_content(user_input),\n",
    "    response=chain.invoke(user_input),\n",
    "    reference=\"If you're not satisfied with the freelancer's work on GOKAP InnoTech, the platform recommends starting with direct communication through the project messaging system. If the issue persists, you can request revisions by selecting 'Request Revisions' under the project details. For unresolved disputes, you can open a formal dispute via 'Project Actions' and submit supporting evidence. GOKAP’s mediation team will review the case within 48 hours. The platform also offers options for partial payments or full refunds, depending on the situation and project type.\"\n",
    ")"
   ]
  },
  {
   "cell_type": "code",
   "execution_count": 109,
   "id": "221eafdc-43f0-4860-bbe8-96b88f971b1f",
   "metadata": {
    "collapsed": true,
    "jupyter": {
     "outputs_hidden": true
    }
   },
   "outputs": [
    {
     "data": {
      "text/plain": [
       "SingleTurnSample(user_input=\"What should I do if I'm not satisfied with the freelancer's work on GOKAP InnoTech?\", retrieved_contexts=['1. Company Overview\\nGOKAP Innotech is a Bhutan-based startup founded to bridge the gap between freelancers and clients through an innovative platform that facilitates seamless collaboration. The company’s mission is \"Tech Excellence, Customer Happiness,\" focusing on transforming lives through technology innovation 4. With over 100+ happy customers and 100+ completed projects, GOKAP has established itself as a trusted name in the tech industry.\\n\\nFull Name: GOKAP InnoTech (commonly referred to as GIT)\\nFounded: 2020\\nIndustry: Technology, Freelance Marketplace\\nHeadquarters: Thimphu, Bhutan\\nContact Information:\\nPhone: +97517570958\\nEmail: GIT@gokapinnotech.com\\nWebsite: www.gokapinnotech.com\\n\\n2. Platform Description\\nGOKAP InnoTech operates a digital marketplace connecting freelancers with clients. The platform facilitates project-based work where clients can post projects and freelancers can apply to complete these projects for compensation.\\nUser Types\\n\\nClients:\\n\\nBusinesses or individuals seeking professional services\\nCan post projects, set budgets, and hire freelancers\\nReview freelancer profiles, portfolios, and ratings before hiring\\nRelease payment upon satisfactory project completion\\n\\n\\nFreelancers:\\n\\nProfessionals offering services across various categories\\nCreate profiles highlighting skills, experience, and portfolio\\nBrowse and apply for available projects\\nComplete work and receive payment through the platform\\n\\n\\n\\n3. Key Features\\nAccount Creation & Management\\n\\nSimple registration process requiring email verification\\nProfile customization options\\nDocument verification for identity confirmation\\nAccount tiers: Basic, Premium, and Enterprise\\n\\nProject Management\\n\\nProject posting interface for clients\\nProject discovery tool for freelancers\\nMilestone tracking system\\nDeadline management features\\nFile sharing capabilities\\n\\nPayment System', 'The fee structure is designed to maintain platform quality while keeping costs reasonable for clients.\\n\\n## Freelancer-Specific\\n\\n### 1. \"How do I apply for projects?\"\\nTo apply for projects on GOKAP InnoTech as a freelancer:\\n\\n1. Log in to your freelancer account\\n2. Navigate to \"Find Projects\" in the main menu\\n3. Browse available projects or use filters to narrow your search:\\n   - Category/skills\\n   - Budget range\\n   - Project duration\\n   - Client rating\\n   - Project type (hourly/fixed)\\n\\n4. Click on a project to view full details\\n5. To apply, click \"Submit Proposal\"\\n6. Complete the proposal form:\\n   - Your bid amount (fixed price or hourly rate)\\n   - Estimated completion time\\n   - Cover letter explaining why you\\'re the right fit\\n   - Answers to any client questions\\n   - Relevant samples from your portfolio\\n   - Milestone suggestions (for larger projects)\\n\\n7. Review your proposal for clarity and professionalism\\n8. Submit your proposal\\n\\nTips for successful applications:\\n- Customize each proposal to the specific project\\n- Highlight relevant experience and skills\\n- Be realistic about timeline and budget\\n- Address the client\\'s needs directly\\n- Keep your profile and portfolio updated\\n- Respond promptly if the client has questions\\n\\n### 2. \"When and how will I get paid?\"\\nOn GOKAP InnoTech, freelancers are paid according to the following process:\\n\\n**For Fixed-Price Projects:**\\n1. Client funds the project/milestone in escrow before you start work\\n2. You complete and submit the agreed deliverables\\n3. The client reviews and approves the work\\n4. Payment is released to your GOKAP account within 24 hours of approval\\n5. Funds in your GOKAP account can be withdrawn using your preferred method', '4. **Partial Payment Option:** For partially completed work, you can:\\n   - Propose a partial payment that reflects the usable portion\\n   - Negotiate this directly or through mediation\\n\\n5. **Refund Policy:** In cases where deliverables completely fail to meet agreed requirements:\\n   - Full refunds may be issued for fixed-price projects\\n   - Hourly projects may be eligible for partial refunds based on review\\n\\nGOKAP\\'s goal is to ensure fair treatment for both clients and freelancers while maintaining platform integrity.\\n\\n### 5. \"Can I request revisions to completed work?\"\\nYes, you can request revisions to completed work on GOKAP InnoTech:\\n\\n1. Navigate to \"My Projects\" and select the relevant project\\n2. Go to the \"Submissions\" tab and find the submission you want revised\\n3. Click on \"Request Revisions\"\\n4. In the revision request form:\\n   - Be specific about what needs to be changed\\n   - Reference the original requirements as needed\\n   - Attach examples or marked-up files if helpful\\n   - Set a reasonable deadline for the revisions\\n5. Submit the revision request\\n\\nImportant points about revisions:\\n- The number of revision rounds should align with what was agreed upon in the initial contract\\n- Additional revisions beyond the agreed amount may incur extra charges\\n- Major changes that significantly alter the original scope may require a new milestone or contract adjustment\\n- All revision requests and communications are logged for transparency\\n- The revision timeline doesn\\'t affect the original project deadline unless manually extended\\n\\n### 6. \"How do I extend a project deadline?\"\\nTo extend a project deadline on GOKAP InnoTech:'], reference_contexts=None, response='If you\\'re not satisfied with the freelancer\\'s work on GOKAP InnoTech, you can follow these steps:\\n\\n1. First, communicate your concerns with the freelancer directly. Explain the issues you\\'ve identified and give them an opportunity to address and rectify the problems. This direct communication might help resolve the situation without further escalation.\\n\\n2. If the freelancer is unable to meet your expectations or address your concerns, you can request revisions to the completed work. Be specific about the changes you want, and provide references or examples where necessary. Keep in mind that the number of revision rounds should align with what was agreed upon in the initial contract.\\n\\n3. If the revisions don\\'t meet your expectations or if the issues are severe, you can dispute the project. GOKAP InnoTech has a dispute resolution process in place to help clients and freelancers resolve disagreements. To initiate a dispute, follow these steps:\\n\\n   a. Navigate to the relevant project in your \"My Projects\" dashboard.\\n   b. Click on the \"Dispute\" button.\\n   c. Provide a detailed explanation of the issues and the outcome you\\'re seeking. Be sure to include any relevant evidence or communication history.\\n\\n4. GOKAP InnoTech\\'s support team will review the dispute and may mediate between you and the freelancer to reach a resolution. If necessary, they may issue a refund or help facilitate alternative solutions.\\n\\n5. In cases where the freelancer\\'s work is not up to the agreed standards and revisions or mediation are not successful, it may be necessary to find a different freelancer to complete the project. In this case, you can use the GOKAP InnoTech platform to find and hire a new freelancer, or you can contact the support team for assistance.', multi_responses=None, reference=\"If you're not satisfied with the freelancer's work on GOKAP InnoTech, the platform recommends starting with direct communication through the project messaging system. If the issue persists, you can request revisions by selecting 'Request Revisions' under the project details. For unresolved disputes, you can open a formal dispute via 'Project Actions' and submit supporting evidence. GOKAP’s mediation team will review the case within 48 hours. The platform also offers options for partial payments or full refunds, depending on the situation and project type.\", rubrics=None)"
      ]
     },
     "execution_count": 109,
     "metadata": {},
     "output_type": "execute_result"
    }
   ],
   "source": [
    "sample10"
   ]
  },
  {
   "cell_type": "code",
   "execution_count": 111,
   "id": "362fd9d9-fa0b-4977-80ed-fba7cd040247",
   "metadata": {},
   "outputs": [],
   "source": [
    "dataset10 = EvaluationDataset(samples=[sample10])"
   ]
  },
  {
   "cell_type": "code",
   "execution_count": 112,
   "id": "229a5429-c789-448d-a391-9c74b386da99",
   "metadata": {},
   "outputs": [
    {
     "data": {
      "text/plain": [
       "EvaluationDataset(features=['user_input', 'retrieved_contexts', 'response', 'reference'], len=1)"
      ]
     },
     "execution_count": 112,
     "metadata": {},
     "output_type": "execute_result"
    }
   ],
   "source": [
    "dataset10"
   ]
  },
  {
   "cell_type": "code",
   "execution_count": 113,
   "id": "eba24fa4-c058-4fe9-8914-3352bbc32b05",
   "metadata": {},
   "outputs": [
    {
     "data": {
      "application/vnd.jupyter.widget-view+json": {
       "model_id": "1cac17ffbcd9409db85506945911c39b",
       "version_major": 2,
       "version_minor": 0
      },
      "text/plain": [
       "Evaluating:   0%|          | 0/4 [00:00<?, ?it/s]"
      ]
     },
     "metadata": {},
     "output_type": "display_data"
    }
   ],
   "source": [
    "result10 = evaluate(\n",
    "    dataset=dataset10, \n",
    "    llm=groq_llm,\n",
    "    embeddings=cohere_embeddings\n",
    ")"
   ]
  },
  {
   "cell_type": "code",
   "execution_count": 114,
   "id": "775d6aec-0d82-4cb7-a6db-1e42ac36c44c",
   "metadata": {},
   "outputs": [
    {
     "data": {
      "text/plain": [
       "{'answer_relevancy': 0.6936, 'context_precision': 1.0000, 'faithfulness': 0.4545, 'context_recall': 1.0000}"
      ]
     },
     "execution_count": 114,
     "metadata": {},
     "output_type": "execute_result"
    }
   ],
   "source": [
    "result10"
   ]
  },
  {
   "cell_type": "code",
   "execution_count": null,
   "id": "43c9948b-4307-4ced-83a4-d22c5bda3ad8",
   "metadata": {},
   "outputs": [],
   "source": []
  }
 ],
 "metadata": {
  "kernelspec": {
   "display_name": "Python 3 (ipykernel)",
   "language": "python",
   "name": "python3"
  },
  "language_info": {
   "codemirror_mode": {
    "name": "ipython",
    "version": 3
   },
   "file_extension": ".py",
   "mimetype": "text/x-python",
   "name": "python",
   "nbconvert_exporter": "python",
   "pygments_lexer": "ipython3",
   "version": "3.12.7"
  }
 },
 "nbformat": 4,
 "nbformat_minor": 5
}
